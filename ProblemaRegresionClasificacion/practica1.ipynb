{
 "cells": [
  {
   "cell_type": "markdown",
   "metadata": {},
   "source": [
    "# Sotavento"
   ]
  },
  {
   "cell_type": "markdown",
   "metadata": {},
   "source": [
    "El objetivo de esta práctica es practicar con diferentes métodos de aprendizaje automático: determinar el mejor método para un conjunto de datos, estimar el rendimiento futuro del mejor método  y construir el modelo final.\n",
    "\n",
    "---\n",
    "\n",
    "The objective of this practice is to practice with different machine learning methods: determine the best method for a dataset, estimate the future performance of the best method, and construct the final model.\n",
    "\n",
    "\n",
    "## Authors\n",
    "\n",
    "- Santiago Kiril Cenkov Stoyanov (100472051@alumnos.uc3m.es)\n",
    "- Ignacio Fernández Cañedo (100471955@alumnos.uc3m.es)\n",
    "\n",
    "---"
   ]
  },
  {
   "cell_type": "markdown",
   "metadata": {},
   "source": [
    "## EDA (Exploratory Data Analysis)"
   ]
  },
  {
   "cell_type": "markdown",
   "metadata": {},
   "source": [
    "### Data dimensions"
   ]
  },
  {
   "cell_type": "markdown",
   "metadata": {},
   "source": [
    "En primer lugar, se realiza una lectura de los datos a estudiar, estos se encuentran en el fichero csv `wind.ava`. Filtramos el total de los datos por aquellos que nos interesan, los que finalizan en \".13\". También vamos a examinar el número de características y de instancias que tiene el problema.\n",
    "\n",
    "---\n",
    "\n",
    "First, a reading of the data to be studied is carried out, these are found in a the csv file `wind.ava`. We filter the total data by those that interest us, those that end in \".13\". We are also going to examine the number of features and instances that the problem has."
   ]
  },
  {
   "cell_type": "code",
   "execution_count": 1,
   "metadata": {},
   "outputs": [
    {
     "name": "stdout",
     "output_type": "stream",
     "text": [
      "- Features: 24; ['datetime', 'energy', 'p54.162.13', 'p55.162.13', 'cape.13', 'p59.162.13', 'lai_lv.13', 'lai_hv.13', 'u10n.13', 'v10n.13', 'sp.13', 'stl1.13', 'u10.13', 'v10.13', 't2m.13', 'stl2.13', 'stl3.13', 'iews.13', 'inss.13', 'stl4.13', 'fsr.13', 'flsr.13', 'u100.13', 'v100.13']\n",
      "- Instances: 4748\n"
     ]
    }
   ],
   "source": [
    "import pandas\n",
    "\n",
    "data = pandas.read_csv('wind_ava.csv.gz', compression=\"gzip\")\n",
    "data = data.filter(regex='^.*(\\.13|[^\\.\\d])$', axis=1)\n",
    "print(f\"- Features: {data.shape[1]}; {data.columns.tolist()}\")\n",
    "print(f\"- Instances: {data.shape[0]}\")"
   ]
  },
  {
   "cell_type": "markdown",
   "metadata": {},
   "source": [
    "### Features type"
   ]
  },
  {
   "cell_type": "markdown",
   "metadata": {},
   "source": [
    "Una vez seleccionados los datos, distinguimos las características numéricas de las categóricas.\n",
    "\n",
    "---\n",
    "\n",
    "Once the data is selected, we distinguish the numerical features from the categorical features."
   ]
  },
  {
   "cell_type": "code",
   "execution_count": 2,
   "metadata": {},
   "outputs": [
    {
     "name": "stdout",
     "output_type": "stream",
     "text": [
      "- Numerical features: 23; ['energy', 'p54.162.13', 'p55.162.13', 'cape.13', 'p59.162.13', 'lai_lv.13', 'lai_hv.13', 'u10n.13', 'v10n.13', 'sp.13', 'stl1.13', 'u10.13', 'v10.13', 't2m.13', 'stl2.13', 'stl3.13', 'iews.13', 'inss.13', 'stl4.13', 'fsr.13', 'flsr.13', 'u100.13', 'v100.13']\n",
      "- Categorical features: 1; ['datetime']\n"
     ]
    }
   ],
   "source": [
    "numerical_features = data.select_dtypes(include=['int64', 'float64']).columns.tolist()\n",
    "categorical_features = data.select_dtypes(include=['object', 'category']).columns.tolist()\n",
    "print(f\"- Numerical features: {len(numerical_features)}; {numerical_features}\")\n",
    "print(f\"- Categorical features: {len(categorical_features)}; {categorical_features}\")"
   ]
  },
  {
   "cell_type": "markdown",
   "metadata": {},
   "source": [
    "### Duplicated features"
   ]
  },
  {
   "cell_type": "markdown",
   "metadata": {},
   "source": [
    "Comprobamos si hay datos duplicados.\n",
    "\n",
    "---\n",
    "\n",
    "We verify if the problem contains duplicated values."
   ]
  },
  {
   "cell_type": "code",
   "execution_count": 3,
   "metadata": {},
   "outputs": [
    {
     "name": "stdout",
     "output_type": "stream",
     "text": [
      "- Duplicated features: NO\n"
     ]
    }
   ],
   "source": [
    "if data[data.duplicated()].any(axis=None):\n",
    "    print(\"- Duplicated features: YES\")\n",
    "else:\n",
    "    print(\"- Duplicated features: NO\")"
   ]
  },
  {
   "cell_type": "markdown",
   "metadata": {},
   "source": [
    "### Variance verification"
   ]
  },
  {
   "cell_type": "markdown",
   "metadata": {},
   "source": [
    "Aunque no haya características constantes, debemos verificar si hay datos muy parecidos entre sí.\n",
    "\n",
    "\n",
    "---\n",
    "\n",
    "Even if there are no constant features, we must verify if there are data that are very similar to each other."
   ]
  },
  {
   "cell_type": "code",
   "execution_count": 4,
   "metadata": {},
   "outputs": [
    {
     "name": "stdout",
     "output_type": "stream",
     "text": [
      "energy        4.429323e+05\n",
      "p54.162.13    2.009369e+09\n",
      "p55.162.13    4.293153e+01\n",
      "cape.13       1.482525e+04\n",
      "p59.162.13    2.151950e+12\n",
      "lai_lv.13     1.579087e-01\n",
      "lai_hv.13     1.355691e-02\n",
      "u10n.13       9.613612e+00\n",
      "v10n.13       9.100875e+00\n",
      "sp.13         5.093529e+05\n",
      "stl1.13       4.114356e+01\n",
      "u10.13        9.973619e+00\n",
      "v10.13        9.355127e+00\n",
      "t2m.13        3.798852e+01\n",
      "stl2.13       3.077972e+01\n",
      "stl3.13       2.100230e+01\n",
      "iews.13       1.346989e-01\n",
      "inss.13       1.436517e-01\n",
      "stl4.13       1.262291e+01\n",
      "fsr.13        5.779241e-05\n",
      "flsr.13       8.903704e-03\n",
      "u100.13       2.344235e+01\n",
      "v100.13       2.178604e+01\n",
      "dtype: float64\n"
     ]
    }
   ],
   "source": [
    "#Utilizar unicamente los datos  numericos\n",
    "numerical = data.select_dtypes(include=['int64', 'float64'])\n",
    "# Verificar la varianza de cada característica\n",
    "print(numerical.var())"
   ]
  },
  {
   "cell_type": "markdown",
   "metadata": {},
   "source": [
    "Como se puede observar, no hay datos iguales pero algunos son muy parecidos entre sí.\n",
    "\n",
    "---\n",
    "\n",
    "As you can see, there are no identical data but some are very similar to each other."
   ]
  },
  {
   "cell_type": "markdown",
   "metadata": {},
   "source": [
    "### Missing values"
   ]
  },
  {
   "cell_type": "code",
   "execution_count": 5,
   "metadata": {},
   "outputs": [
    {
     "name": "stdout",
     "output_type": "stream",
     "text": [
      "- Missing values: NO\n"
     ]
    }
   ],
   "source": [
    "if data.isna().any(axis=None):\n",
    "    print(\"- Missing values: YES\")\n",
    "else:\n",
    "    print(\"- Missing values: NO\")"
   ]
  },
  {
   "cell_type": "markdown",
   "metadata": {},
   "source": [
    "### Problem type\n",
    "\n",
    "*Target feature is numerical <=> Regression problem*\n",
    "\n",
    "*Target feature is categorical <=> Classification problem*"
   ]
  },
  {
   "cell_type": "code",
   "execution_count": 6,
   "metadata": {},
   "outputs": [
    {
     "name": "stdout",
     "output_type": "stream",
     "text": [
      "- Problem type: REGRESSION\n"
     ]
    }
   ],
   "source": [
    "if 'energy' in numerical_features:\n",
    "    print(\"- Problem type: REGRESSION\")\n",
    "else:\n",
    "    print(\"- Problem type: CLASSIFICATION\")"
   ]
  },
  {
   "cell_type": "markdown",
   "metadata": {},
   "source": [
    "### Histogram"
   ]
  },
  {
   "cell_type": "markdown",
   "metadata": {},
   "source": [
    "Creamos un histograma para poder visualizar y entender la distribución de la variable objetivo: energy.\n",
    "\n",
    "---\n",
    "\n",
    "We create a histogram to be able to visualize and understand the distribution of the objective variable: energy."
   ]
  },
  {
   "cell_type": "code",
   "execution_count": 7,
   "metadata": {},
   "outputs": [
    {
     "name": "stderr",
     "output_type": "stream",
     "text": [
      "/home/santiago/.local/lib/python3.10/site-packages/matplotlib/projections/__init__.py:63: UserWarning: Unable to import Axes3D. This may be due to multiple versions of Matplotlib being installed (e.g. as a system package and as a pip package). As a result, the 3D projection is not available.\n",
      "  warnings.warn(\"Unable to import Axes3D. This may be due to multiple versions of \"\n"
     ]
    },
    {
     "data": {
      "image/png": "[encoded data removed]",
      "text/plain": [
       "<Figure size 640x480 with 1 Axes>"
      ]
     },
     "metadata": {},
     "output_type": "display_data"
    }
   ],
   "source": [
    "import matplotlib.pyplot as plt\n",
    "\n",
    "data['energy'].hist()\n",
    "plt.xlabel('energy')\n",
    "plt.ylabel('frequency')\n",
    "plt.show()"
   ]
  },
  {
   "cell_type": "markdown",
   "metadata": {},
   "source": [
    "Se puede observar que hay relativamente menos valores de energía alta que de baja. Esto no será un problema porque la tarea es de regresión luego no existe el concepto de clase menos representada.\n",
    "\n",
    "---\n",
    "\n",
    "It can be observed that there are relatively fewer high-energy values than low-energy values. This won't be a problem because the task is regression, so there's no concept of a less represented class."
   ]
  },
  {
   "cell_type": "markdown",
   "metadata": {},
   "source": [
    "### Correlation matrix"
   ]
  },
  {
   "cell_type": "markdown",
   "metadata": {},
   "source": [
    "Ahora observamos los datos creando una matriz de correlación, en esta matriz cada celda en la tabla muestra la relación entre dos variables. Hay que indicar que únicamente nos vamos a fijar en la fila / columna de la variable objetivo, la de energía.\n",
    "\n",
    "---\n",
    "\n",
    "Now we look at the data by creating a correlation matrix, in this matrix each cell in the table shows the relationship between two variables. It should be noted that we are only going to look at the row/column of the target variable, energy."
   ]
  },
  {
   "cell_type": "code",
   "execution_count": 8,
   "metadata": {},
   "outputs": [
    {
     "data": {
      "text/plain": [
       "<Axes: >"
      ]
     },
     "execution_count": 8,
     "metadata": {},
     "output_type": "execute_result"
    },
    {
     "data": {
      "image/png": "[encoded data removed]",
      "text/plain": [
       "<Figure size 2000x1000 with 2 Axes>"
      ]
     },
     "metadata": {},
     "output_type": "display_data"
    }
   ],
   "source": [
    "import seaborn\n",
    "\n",
    "correlation_matrix = data.select_dtypes(include=['int64', 'float64']).corr().round(2)\n",
    "plt.figure(figsize=(20, 10))\n",
    "seaborn.heatmap(data=correlation_matrix, annot=True)"
   ]
  },
  {
   "cell_type": "markdown",
   "metadata": {},
   "source": [
    "Como podemos observar en la fila/columna de la variable objetivo, hay valores cercanos a 1, como el caso de la variable p59.162.13.\n",
    "\n",
    "---\n",
    "\n",
    "As we can see in the row/column of the target variable, there are values ​​close to 1, as in the case of the variable p59.162.13."
   ]
  },
  {
   "cell_type": "markdown",
   "metadata": {},
   "source": [
    "## Evaluation"
   ]
  },
  {
   "cell_type": "markdown",
   "metadata": {},
   "source": [
    "### Outer evaluation\n",
    "\n",
    "La evaluación *outer* tiene como objetivo la evaluación de un modelo una vez construido y sirve para estimar su eficacia. Una técnica común es utilizar *train-test split holdout*. Esta divide aleatorialmente el conjunto de datos en dos partes: una para entreanmiento (70-80% comunmente) y otra para evaluación (20-30% comunmente).\n",
    "\n",
    "Por otro lado, es importante considerar el tamaño de los subconjuntos para entrenamiento y evaluación:\n",
    "- Tamaños de entrenamiento grandes frente al de evaluación resultan en una peor estimación del error del modelo más incierta.\n",
    "- Tamaños de evaluación grandes frente al de entrenamiento resultan en modelos peores.\n",
    "\n",
    "Una solución sería probar distintas particiones del conjunto de datos. Sin embargo, se opta por utilizar una partición fija comunmente usada por simplicidad, eficiencia temporal y tendencia a obtener buenos resultados.\n",
    "\n",
    "Por tanto se utilizará ***train-test split holdout*** y una división fija de **80% para entrenamiento y 20% para evaluación**.\n",
    "\n",
    "---\n",
    "\n",
    "The outer evaluation aims to assess a model once it is constructed and serves to estimate its effectiveness. A common technique is to use the train-test split holdout. This involves randomly dividing the dataset into two subsets: the training set (commonly 70-80%) and the evaluation set (commonly 20-30%).\n",
    "\n",
    "Additionally, it's crucial to consider the sizes of the training and evaluation subsets:\n",
    "- Larger training sizes compared to evaluation result in a poorer and more uncertain model error estimation.\n",
    "- Larger evaluation sizes compared to training result in worse models.\n",
    "\n",
    "One solution would be to try different data partitions. However, the decision is made to use a commonly used fixed partition for simplicity, time efficiency, and a tendency to achieve good results.\n",
    "\n",
    "Therefore, **train-test split holdout** will be used and a fixed split of **80% for training and 20% for evaluation**."
   ]
  },
  {
   "cell_type": "code",
   "execution_count": 9,
   "metadata": {},
   "outputs": [],
   "source": [
    "from sklearn.model_selection import train_test_split\n",
    "\n",
    "TEST_SIZE = 0.2  # test subset %"
   ]
  },
  {
   "cell_type": "markdown",
   "metadata": {},
   "source": [
    "### Inner evaluation\n",
    "\n",
    "La evaluación *inner* tiene como objetivo la evaluación de un modelo mientras se está construyendo y sirve para el ajuste de hiper-parámetros. Una técnica común es utilizar *cross-validation*. Esta divide el conjunto de entrenamiento en instancias de entrenamiento e instancias de *test*. De entre todos los tipos de *cross-validation*, una opción es *K-fold cross-validation* el cual hace la división en *K-folds* e itera K veces para que todas las instancias del conjunto de datos hayan sido de entrenamiento y en una iteración de *test*. Se opta por este debido a su simplicidad y sobretodo por su eficiencia temporal frente a otros *cross-validation*.\n",
    "\n",
    "Por otro lado para la búsqueda de hiperparámetros se utilizará Random Search con número de combinaciones por defecto (10). Este método es computacionalmente menos costoso que Grid Search, el cual prueba todas las combinaciones posibles, y se ha demostrado que funciona bien pues algunos hiperparámetros son más importantes que otros para ajustar.\n",
    "\n",
    "Por tanto se utilizará ***K-fold cross-validation*** con **K = 5** mediante **Random Search**.\n",
    "\n",
    "---\n",
    "\n",
    "Inner evaluation aims to assess a model while it's being constructed and serves for hyperparameter tuning. A common technique for inner evaluation is cross-validation. This method divides the training dataset into training instances and test instances. Among all types of cross-validation, one option is K-fold cross-validation, which divides the data into K folds and iterates K times to ensure that all instances have been part of both the training and test sets. This approach is chosen for its simplicity and efficiency compared to other cross-validation methods.\n",
    "\n",
    "For hyperparameter tuning, Random Search will be used with the default number of combinations (10). This method is computationally less expensive than Grid Search, which tests all possible combinations, and has been shown to work well as some hyperparameters are more important than others for tuning.\n",
    "\n",
    "Therefore, ***K-fold cross-validation*** with **K = 5** will be utilized via **Random Search**."
   ]
  },
  {
   "cell_type": "code",
   "execution_count": 10,
   "metadata": {},
   "outputs": [],
   "source": [
    "from sklearn.model_selection import KFold\n",
    "\n",
    "K_FOLDS = 5  # number of fold for cross-validation"
   ]
  },
  {
   "cell_type": "markdown",
   "metadata": {},
   "source": [
    "### Metrics\n",
    "\n",
    "En primer lugar puesto que se trata de un problema de regresión, se utilizarán métricas para modelos de regresión. Se van a usar 2 métricas:\n",
    "- **RMSE (Root Mean Squared Error)**: es más fácil de interpretar puesto que la magnitud del error es la misma que la de la variable objetivo.\n",
    "- **R2 (Coefficient of determination)**: puesto que su dominio es [0,1], se puede comparar más facilmente entre modelos. Además será muy útil para determinar el modelo final puesto que R2 mide la proporción de la variable dependiente que es explicada a partir de las variables independientes.\n",
    "\n",
    "---\n",
    "\n",
    "Firstly, since the problem is a regression task, regression model metrics will be utilized. Two metrics will be employed:\n",
    "- **RMSE (Root Mean Squared Error)**: this metric is straightforward to interpret as the error magnitude aligns with that of the target variable.\n",
    "- **R2 (Coefficient of determination)**: with its range being [0,1], R2 facilitates easier comparison between models. Moreover, it will be instrumental in determining the final model, as it quantifies the proportion of the dependent variable explained by the independent variables."
   ]
  },
  {
   "cell_type": "code",
   "execution_count": 11,
   "metadata": {},
   "outputs": [],
   "source": [
    "from sklearn import metrics"
   ]
  },
  {
   "cell_type": "markdown",
   "metadata": {},
   "source": [
    "## Models"
   ]
  },
  {
   "cell_type": "code",
   "execution_count": 12,
   "metadata": {},
   "outputs": [],
   "source": [
    "import time\n",
    "import numpy\n",
    "from sklearn.model_selection import RandomizedSearchCV\n",
    "from sklearn.pipeline import Pipeline\n",
    "from sklearn.decomposition import PCA\n",
    "\n",
    "X = data.select_dtypes(include=['int64', 'float64']).drop('energy', axis=1)  # idependent features\n",
    "Y = data['energy']  # dependent feature\n",
    "SEED = 55  # reproducibility seed\n",
    "IMPORTANT_FEATURES = 5  # number of most important features\n",
    "BUDGET=25  # number of hyperparameters combinations\n",
    "\n",
    "models = {\n",
    "    'Non-Adjusted': dict(),\n",
    "    'Adjusted': dict()\n",
    "}  # models created"
   ]
  },
  {
   "cell_type": "markdown",
   "metadata": {},
   "source": [
    "### Dummy Regressor\n",
    "\n",
    "El *dummy model*, también conocido como *baseline model* o *naive model*, es el modelo más simple que se puede construir. En regresión un *dummy regressor* utiliza reglas simples como la media o la mediana para predecir la variable objetivo.\n",
    "\n",
    "Este modelo se utiliza para comparar la eficacia de otros modelos más complejos. De forma que si un modelo más complejo no consigue superar el *dummy model*, no es eficaz.\n",
    "\n",
    "---\n",
    "\n",
    "The dummy model, also known as the baseline model or naive model, is the simplest model that can be constructed. In regression, a dummy regressor uses simple rules such as the mean or median to predict the target variable.\n",
    "\n",
    "This model is used to compare the effectiveness of other, more complex models. So if a more complex model fails to surpass the dummy model, it is not effective."
   ]
  },
  {
   "cell_type": "code",
   "execution_count": 13,
   "metadata": {},
   "outputs": [
    {
     "name": "stdout",
     "output_type": "stream",
     "text": [
      "Dummy Regressor:\n",
      "- Training time: 0.006 s\n",
      "- Errors:\n",
      "   -  RMSE: 654.043\n",
      "   -  R2: 0.000\n",
      "- Hyperparameters:\n",
      "   -  constant: None\n",
      "   -  quantile: None\n",
      "   -  strategy: mean\n",
      "- Top 5 features: NO\n"
     ]
    }
   ],
   "source": [
    "from sklearn.dummy import DummyRegressor\n",
    "\n",
    "print(\"Dummy Regressor:\")\n",
    "training_time = time.time()  # start training time\n",
    "\n",
    "# MODEL SETUP\n",
    "model = DummyRegressor()  # model\n",
    "\n",
    "# MODEL TRAINING\n",
    "x_train, x_test, y_train, y_test = train_test_split(X, Y, test_size=TEST_SIZE, random_state=SEED)\n",
    "# - training subset: x_train U y_train\n",
    "# - test subset: x_test U y_test\n",
    "numpy.random.seed(SEED) # reproducibility\n",
    "model.fit(x_train, y_train)\n",
    "\n",
    "# MODEL EVALUATION\n",
    "y_test_pred = model.predict(x_test)  # dependent feature model predictions\n",
    "rmse = numpy.sqrt(metrics.mean_squared_error(y_test, y_test_pred))\n",
    "r2 = numpy.clip(metrics.r2_score(y_test, y_test_pred), 0, 1)\n",
    "\n",
    "training_time = time.time() - training_time  # end training time\n",
    "\n",
    "models['Non-Adjusted']['Dummy Regressor'] = {\n",
    "    'Mean': {\n",
    "        'Model': model,\n",
    "        'Training time': training_time,\n",
    "        'RMSE': rmse,\n",
    "        'R2': r2\n",
    "    }\n",
    "}\n",
    "\n",
    "print(f\"- Training time: {training_time:.3f} s\")\n",
    "print(\"- Errors:\")\n",
    "print(f\"   -  RMSE: {rmse:.3f}\")\n",
    "print(f\"   -  R2: {r2:.3f}\")\n",
    "print(\"- Hyperparameters:\")\n",
    "for param, value in model.get_params().items():\n",
    "    print(f\"   -  {param}: {value}\")\n",
    "print(f\"- Top {IMPORTANT_FEATURES} features: NO\")"
   ]
  },
  {
   "cell_type": "markdown",
   "metadata": {},
   "source": [
    "Un R2 = 0 indica que el *dummy model* nunca predice correctamente. Luego cualquier otro modelo debe superar al *dummy model* con un R2 significativamente > 0.\n",
    "\n",
    "---\n",
    "\n",
    "An R2 = 0 indicates that the dummy model never predicts correctly. Therefore, any other model must outperform the dummy model with an R2 significantly > 0."
   ]
  },
  {
   "cell_type": "markdown",
   "metadata": {},
   "source": [
    "### Decision Tree\n",
    "\n",
    "Los árboles de decisión son uno de los primero algoritmos de aprendizaje automático que existen. Se han demostrado útiles tanto en problemas de clasificación como de regresión si se selecciona el árbol de decisión adecuado y se realiza un buen ajuste de hiperparámetros.\n",
    "\n",
    "Fortalezas:\n",
    "- Selecciona atributos de forma implícita.\n",
    "- Determina la importancia de los atributos. Atributos más cercanos a la raíz son más importantes.\n",
    "- Se puede representar visualmente haciendolo fácil e intuitivo de interpretar y explicar.\n",
    "\n",
    "Debilidades:\n",
    "- Los árboles de decisión tienden a sobreaprender si no se limita la produndidad.\n",
    "- Las fronteras de decisión de los árboles de decisión son no lineales carentes de suavidad.\n",
    "\n",
    "---\n",
    "\n",
    "Decision trees are one of the earliest machine learning algorithms to exist. They have proven useful in both classification and regression problems if the right decision tree is selected and proper hyperparameter tuning is performed.\n",
    "\n",
    "Strengths:\n",
    "- Implicitly selects attributes.\n",
    "- Determines the importance of features. Features closer to the root are more important.\n",
    "- Can be visually represented, making it easy and intuitive to interpret and explain.\n",
    "\n",
    "Weaknesses:\n",
    "- Decision trees tend to overfit if the depth is not limited.\n",
    "- Decision boundaries of decision trees are nonlinear and lack smoothness."
   ]
  },
  {
   "cell_type": "markdown",
   "metadata": {},
   "source": [
    "#### CART\n",
    "\n",
    "El primer modelo de aprendizaje automático que se desea probar es un árbol de decisión CART (Classification and Regression Trees). Este algoritmo emplea árboles de decisión y nace a partir de algoritmos más simples como ID3 o C4.5. CART a diferencia de sus predecesores, es capaz de tratar problemas tanto de clasificación como de regresión.\n",
    "\n",
    "Fortalezas:\n",
    "- Es no paramétrico y por tanto no realiza suposiciones sobre los datos, permitiendole encontrar patrones complejos.\n",
    "- Puede manejar atributos numéricos y/o categóricos a la vez.\n",
    "- Es robusto a valores atípicos.\n",
    "\n",
    "Debilidades:\n",
    "- Alta varianza entre diferentes conjuntos de entrenamiento.\n",
    "\n",
    "---\n",
    "\n",
    "The first machine learning model to be tested is a CART (Classification and Regression Trees) decision tree. This algorithm employs decision trees and stems from simpler algorithms like ID3 or C4.5. Unlike its predecessors, CART is capable of handling both classification and regression problems.\n",
    "\n",
    "Strengths:\n",
    "- Is non-parametric, hence it makes no assumptions about the data, allowing it to find complex patterns.\n",
    "- Can handle both numerical and/or categorical attributes simultaneously.\n",
    "- Robust to outliers.\n",
    "\n",
    "Weaknesses:\n",
    "- High variance among different training sets."
   ]
  },
  {
   "cell_type": "markdown",
   "metadata": {},
   "source": [
    "##### Default hyperparameters"
   ]
  },
  {
   "cell_type": "code",
   "execution_count": 14,
   "metadata": {},
   "outputs": [
    {
     "name": "stdout",
     "output_type": "stream",
     "text": [
      "CART:\n",
      "- Training time: 0.107 s\n",
      "- Errors:\n",
      "   -  RMSE: 475.075\n",
      "   -  R2: 0.472\n",
      "- Hyperparameters:\n",
      "   -  ccp_alpha: 0.0\n",
      "   -  criterion: squared_error\n",
      "   -  max_depth: None\n",
      "   -  max_features: None\n",
      "   -  max_leaf_nodes: None\n",
      "   -  min_impurity_decrease: 0.0\n",
      "   -  min_samples_leaf: 1\n",
      "   -  min_samples_split: 2\n",
      "   -  min_weight_fraction_leaf: 0.0\n",
      "   -  monotonic_cst: None\n",
      "   -  random_state: None\n",
      "   -  splitter: best\n",
      "- Top 5 features:\n",
      "   -  'iews.13': 33.355 %\n",
      "   -  'u100.13': 24.340 %\n",
      "   -  'inss.13': 9.667 %\n",
      "   -  'stl1.13': 3.566 %\n",
      "   -  't2m.13': 3.215 %\n"
     ]
    }
   ],
   "source": [
    "from sklearn.tree import DecisionTreeRegressor\n",
    "\n",
    "print(\"CART:\")\n",
    "training_time = time.time()  # start training time\n",
    "\n",
    "# MODEL SETUP\n",
    "model = DecisionTreeRegressor()  # model\n",
    "\n",
    "# MODEL TRAINING\n",
    "x_train, x_test, y_train, y_test = train_test_split(X, Y, test_size=TEST_SIZE, random_state=SEED)\n",
    "# - training subset: x_train U y_train\n",
    "# - test subset: x_test U y_test\n",
    "numpy.random.seed(SEED) # reproducibility\n",
    "model.fit(x_train, y_train)\n",
    "\n",
    "# MODEL EVALUATION\n",
    "y_test_pred = model.predict(x_test)  # dependent feature model predictions\n",
    "rmse = numpy.sqrt(metrics.mean_squared_error(y_test, y_test_pred))\n",
    "r2 = numpy.clip(metrics.r2_score(y_test, y_test_pred), 0, 1)\n",
    "\n",
    "training_time = time.time() - training_time  # end training time\n",
    "\n",
    "models['Non-Adjusted']['Decision Tree'] = {\n",
    "    'CART': {\n",
    "        'Model': model,\n",
    "        'Training time': training_time,\n",
    "        'RMSE': rmse,\n",
    "        'R2': r2\n",
    "    }\n",
    "}\n",
    "\n",
    "print(f\"- Training time: {training_time:.3f} s\")\n",
    "print(\"- Errors:\")\n",
    "print(f\"   -  RMSE: {rmse:.3f}\")\n",
    "print(f\"   -  R2: {r2:.3f}\")\n",
    "print(\"- Hyperparameters:\")\n",
    "for param, value in model.get_params().items():\n",
    "    print(f\"   -  {param}: {value}\")\n",
    "print(f\"- Top {IMPORTANT_FEATURES} features:\")\n",
    "for importance, feature in sorted(zip(model.feature_importances_, X.columns), reverse=True)[:IMPORTANT_FEATURES]:\n",
    "    print(f\"   -  '{feature}': {importance*100:.3f} %\")"
   ]
  },
  {
   "cell_type": "markdown",
   "metadata": {},
   "source": [
    "##### Custom hyperparameters\n",
    "\n",
    "El principal hiperparámetro que se va a ajustar es:\n",
    "- `max_depth`: máxima profundidad del árbol. Se debe limitar.\n",
    "\n",
    "Otros hiperparámetros interesantes con los que experimentar son:\n",
    "- `min_samples_split`: número mínimo de instancias en un nodo interno para poder dividirlo.\n",
    "- `min_samples_leaf`: número mínimo de instancias en un nodo hoja para poder dividirlo.\n",
    "- `max_leaf_nodes`: número máximo de nodos hoja en el árbol.\n",
    "\n",
    "---\n",
    "\n",
    "The main hyperparameter to adjust is:\n",
    "- `max_depth`: the maximum depth of the tree. It needs to be limited.\n",
    "\n",
    "Other interesting hyperparameters to experiment with are:\n",
    "- `min_samples_split`: minimum number of samples required to split an internal node.\n",
    "- `min_samples_leaf`: minimum number of samples required to be at a leaf node.\n",
    "- `max_leaf_nodes`: maximum number of leaf nodes in the tree."
   ]
  },
  {
   "cell_type": "code",
   "execution_count": 15,
   "metadata": {},
   "outputs": [
    {
     "name": "stdout",
     "output_type": "stream",
     "text": [
      "CART:\n"
     ]
    },
    {
     "name": "stdout",
     "output_type": "stream",
     "text": [
      "- Training time: 2.098 s\n",
      "- Errors:\n",
      "   -  RMSE: 412.886\n",
      "   -  R2: 0.601\n",
      "- Hyperparameters:\n",
      "   -  ccp_alpha: 0.0\n",
      "   -  criterion: squared_error\n",
      "  (*) max_depth: 5\n",
      "   -  max_features: None\n",
      "  (*) max_leaf_nodes: None\n",
      "   -  min_impurity_decrease: 0.0\n",
      "  (*) min_samples_leaf: 5\n",
      "  (*) min_samples_split: 2\n",
      "   -  min_weight_fraction_leaf: 0.0\n",
      "   -  monotonic_cst: None\n",
      "   -  random_state: None\n",
      "   -  splitter: best\n",
      "- Top 5 features:\n",
      "   -  'iews.13': 46.154 %\n",
      "   -  'u100.13': 31.842 %\n",
      "   -  'inss.13': 11.375 %\n",
      "   -  'stl1.13': 4.070 %\n",
      "   -  'v100.13': 1.773 %\n"
     ]
    }
   ],
   "source": [
    "print(\"CART:\")\n",
    "training_time = time.time()  # start training time\n",
    "\n",
    "# MODEL SETUP\n",
    "params = {\n",
    "    'max_depth': [None, 5, 10, 15, 20],\n",
    "    'min_samples_split': [2, 5, 10, 15, 20],\n",
    "    'min_samples_leaf': [2, 5, 10, 15],\n",
    "    'max_leaf_nodes': [None, 5, 10, 15]\n",
    "}  # params\n",
    "model = RandomizedSearchCV(\n",
    "    estimator=DecisionTreeRegressor(),  # model type\n",
    "    scoring='neg_root_mean_squared_error',  # inner evaluation metrics\n",
    "    param_distributions=params,  # hyperparameters ranges\n",
    "    cv=KFold(n_splits=K_FOLDS, shuffle=True, random_state=SEED),  # cross-validation inner evaluation\n",
    "    n_jobs=-1,  # parallel execution\n",
    "    verbose=False,  # execution messages\n",
    "    random_state=SEED,  # reproducibility\n",
    "    n_iter=BUDGET  # number of hyperparameters combinations\n",
    ")  # model\n",
    "\n",
    "# MODEL TRAINING\n",
    "x_train, x_test, y_train, y_test = train_test_split(X, Y, test_size=TEST_SIZE, random_state=SEED)\n",
    "# - training subset: x_train U y_train\n",
    "# - test subset: x_test U y_test\n",
    "numpy.random.seed(SEED) # reproducibility\n",
    "model.fit(x_train, y_train)\n",
    "\n",
    "best_params = model.best_params_ # params\n",
    "model = model.best_estimator_  # model\n",
    "\n",
    "# MODEL EVALUATION\n",
    "y_test_pred = model.predict(x_test)  # dependent feature model predictions\n",
    "rmse = numpy.sqrt(metrics.mean_squared_error(y_test, y_test_pred))\n",
    "r2 = numpy.clip(metrics.r2_score(y_test, y_test_pred), 0, 1)\n",
    "\n",
    "training_time = time.time() - training_time  # end training time\n",
    "\n",
    "models['Adjusted']['Decision Tree'] = {\n",
    "    'CART': {\n",
    "        'Model': model,\n",
    "        'Params': best_params,\n",
    "        'Training time': training_time,\n",
    "        'RMSE': rmse,\n",
    "        'R2': r2\n",
    "    }\n",
    "}\n",
    "\n",
    "print(f\"- Training time: {training_time:.3f} s\")\n",
    "print(\"- Errors:\")\n",
    "print(f\"   -  RMSE: {rmse:.3f}\")\n",
    "print(f\"   -  R2: {r2:.3f}\")\n",
    "print(\"- Hyperparameters:\")\n",
    "for param, value in model.get_params().items():\n",
    "    if param in best_params:\n",
    "        print(f\"  (*) {param}: {value}\")\n",
    "    else:\n",
    "        print(f\"   -  {param}: {value}\")\n",
    "print(f\"- Top {IMPORTANT_FEATURES} features:\")\n",
    "for importance, feature in sorted(zip(model.feature_importances_, X.columns), reverse=True)[:IMPORTANT_FEATURES]:\n",
    "    print(f\"   -  '{feature}': {importance*100:.3f} %\")"
   ]
  },
  {
   "cell_type": "markdown",
   "metadata": {},
   "source": [
    "##### Results\n",
    "\n",
    "- **Ambos árboles de decisión superan indudablemente al *dummy model*** con un R2 significativamente mayor a 0.\n",
    "- **CART con los hiperparámetros ajustados supera al no ajustado** con ~0.13 más en R2 y ~60 menos en RMSE.\n",
    "- Ambos árboles de decisión **coinciden en cuáles son los 3 primeros atributos más importantes** (`iews.13`, `u100.13` y `inss.13` en este orden).\n",
    "\n",
    "**El mejor modelo entre los dos es CART con los hiperparámetros ajustados**.\n",
    "\n",
    "---\n",
    "\n",
    "- The training time of CART with adjusted hyperparameters is in the order of units (~3 s), while the unadjusted one is below 1 second (~0.5 s). **The unadjusted one is ~6 times faster to train**.\n",
    "- **Both decision trees undoubtedly outperform the dummy model** with an R2 significantly greater than 0.\n",
    "- **CART with adjusted hyperparameters surpasses the unadjusted one** by ~0.13 more in R2 and ~60 less in RMSE.\n",
    "- Both decision trees **agree on the top 3 most important attributes** (`iews.13`, `u100.13`, and `inss.13`, in this order).\n",
    "\n",
    "**The best model among the two is CART with adjusted hyperparameters**."
   ]
  },
  {
   "cell_type": "markdown",
   "metadata": {},
   "source": [
    "#### Random Forest\n",
    "\n",
    "Random Forest es un método *ensemble* que construye varios árboles de decisiones, generalmente CART, y entrena cada uno con un subconjunto de datos distinto. Una vez construidos, se predice la variable objetivo como la media o la mediana de la predicción de todos los demás árboles. Se puede utilziar tanto para problemas de clasificación como de regresión. \n",
    "\n",
    "Fortalezas:\n",
    "- Cada árbol de decisión contruido captura una parte del conocimeinto. El cuál se puede ensamblar entre todos.\n",
    "- Es menos sensible a sobreaaprender comparado a árboles de decisión individuales.\n",
    "- Es no paramétrico y por tanto no realiza suposiciones sobre los datos, permitiendole encontrar patrones complejos.\n",
    "- Es robusto a valores atípicos.\n",
    "\n",
    "Debilidades:\n",
    "- Es más difícil de interpretar que un árbol de decisión individual.\n",
    "- Mayor consumo de memoria puesto que debe almacenar cada árbol construido.\n",
    "- Puede ser computacionalmente costoso si no se limita la produndidad de los árboles construidos.\n",
    "\n",
    "---\n",
    "\n",
    "Random Forest is an ensemble method that constructs multiple decision trees, typically CART, and trains each one with a different subset of data. Once constructed, the target variable is predicted as the mean or median of the predictions from all other trees. It can be used for both classification and regression problems.\n",
    "\n",
    "Strengths:\n",
    "- Each decision tree captures a portion of knowledge, which can be assembled across all trees.\n",
    "- Less sensitive to overfitting compared to individual decision trees.\n",
    "- Is non-parametric and therefore makes no assumptions about the data, allowing it to find complex patterns.\n",
    "- Robust to outliers.\n",
    "\n",
    "Weaknesses:\n",
    "- Is more difficult to interpret than an individual decision tree.\n",
    "- Has higher memory consumption since it needs to store each constructed tree.\n",
    "- Can be computationally costly if the depth of the constructed trees is not limited."
   ]
  },
  {
   "cell_type": "markdown",
   "metadata": {},
   "source": [
    "##### Default hyperparameters"
   ]
  },
  {
   "cell_type": "code",
   "execution_count": 16,
   "metadata": {},
   "outputs": [
    {
     "name": "stdout",
     "output_type": "stream",
     "text": [
      "Random Forest:\n",
      "- Training time: 1.465 s\n",
      "- Errors:\n",
      "   -  RMSE: 342.519\n",
      "   -  R2: 0.726\n",
      "- Hyperparameters:\n",
      "   -  bootstrap: True\n",
      "   -  ccp_alpha: 0.0\n",
      "   -  criterion: squared_error\n",
      "   -  max_depth: None\n",
      "   -  max_features: 1.0\n",
      "   -  max_leaf_nodes: None\n",
      "   -  max_samples: None\n",
      "   -  min_impurity_decrease: 0.0\n",
      "   -  min_samples_leaf: 1\n",
      "   -  min_samples_split: 2\n",
      "   -  min_weight_fraction_leaf: 0.0\n",
      "   -  monotonic_cst: None\n",
      "   -  n_estimators: 100\n",
      "   -  n_jobs: -1\n",
      "   -  oob_score: False\n",
      "   -  random_state: 55\n",
      "   -  verbose: 0\n",
      "   -  warm_start: False\n",
      "- Top 5 features:\n",
      "   -  'iews.13': 34.042 %\n",
      "   -  'u100.13': 24.119 %\n",
      "   -  'inss.13': 8.649 %\n",
      "   -  'p59.162.13': 3.669 %\n",
      "   -  't2m.13': 3.535 %\n"
     ]
    }
   ],
   "source": [
    "from sklearn.ensemble import RandomForestRegressor\n",
    "\n",
    "print(\"Random Forest:\")\n",
    "training_time = time.time()  # start training time\n",
    "\n",
    "# MODEL SETUP\n",
    "model = RandomForestRegressor(n_jobs=-1, random_state=SEED)  # model\n",
    "\n",
    "# MODEL TRAINING\n",
    "x_train, x_test, y_train, y_test = train_test_split(X, Y, test_size=TEST_SIZE, random_state=SEED)\n",
    "# - training subset: x_train U y_train\n",
    "# - test subset: x_test U y_test\n",
    "numpy.random.seed(SEED) # reproducibility\n",
    "model.fit(x_train, y_train)\n",
    "\n",
    "# MODEL EVALUATION\n",
    "y_test_pred = model.predict(x_test)  # dependent feature model predictions\n",
    "rmse = numpy.sqrt(metrics.mean_squared_error(y_test, y_test_pred))\n",
    "r2 = numpy.clip(metrics.r2_score(y_test, y_test_pred), 0, 1)\n",
    "\n",
    "training_time = time.time() - training_time  # end training time\n",
    "\n",
    "models['Non-Adjusted']['Decision Tree']['Random Forest'] = {\n",
    "    'Model': model,\n",
    "    'Training time': training_time,\n",
    "    'RMSE': rmse,\n",
    "    'R2': r2\n",
    "}\n",
    "\n",
    "print(f\"- Training time: {training_time:.3f} s\")\n",
    "print(\"- Errors:\")\n",
    "print(f\"   -  RMSE: {rmse:.3f}\")\n",
    "print(f\"   -  R2: {r2:.3f}\")\n",
    "print(\"- Hyperparameters:\")\n",
    "for param, value in model.get_params().items():\n",
    "    print(f\"   -  {param}: {value}\")\n",
    "print(f\"- Top {IMPORTANT_FEATURES} features:\")\n",
    "for importance, feature in sorted(zip(model.feature_importances_, X.columns), reverse=True)[:IMPORTANT_FEATURES]:\n",
    "    print(f\"   -  '{feature}': {importance*100:.3f} %\")"
   ]
  },
  {
   "cell_type": "markdown",
   "metadata": {},
   "source": [
    "##### Custom hyperparameters\n",
    "\n",
    "Los principales hiperparámetros son:\n",
    "- `max_depth`: máxima profundidad de cada árbol individual.\n",
    "- `n_estimators`: número de árboles generados.\n",
    "\n",
    "Otros hiperparámetros interesantes con los que experimentar son:\n",
    "- `max_features`: número de atributos que considerar para hacer la división de un nodo en cada árbol individual. \n",
    "- `min_samples_split`: número mínimo de instancias en un nodo interno para poder dividirlo.\n",
    "- `min_samples_leaf`: número mínimo de instancias en un nodo hoja para poder dividirlo.\n",
    "\n",
    "---\n",
    "\n",
    "The main hyperparameters are:\n",
    "- `max_depth`: the maximum depth of each individual tree.\n",
    "- `n_estimators`: the number of trees generated.\n",
    "\n",
    "Other interesting hyperparameters to experiment with are:\n",
    "- `max_features`: the number of attributes to consider when making the split at each individual tree node.\n",
    "- `min_samples_split`: the minimum number of instances in an internal node to be able to split it.\n",
    "- `min_samples_leaf`: the minimum number of instances in a leaf node to be able to split it."
   ]
  },
  {
   "cell_type": "code",
   "execution_count": 17,
   "metadata": {},
   "outputs": [
    {
     "name": "stdout",
     "output_type": "stream",
     "text": [
      "Random Forest:\n",
      "- Training time: 100.375 s\n",
      "- Errors:\n",
      "   -  RMSE: 338.227\n",
      "   -  R2: 0.732\n",
      "- Hyperparameters:\n",
      "   -  bootstrap: True\n",
      "   -  ccp_alpha: 0.0\n",
      "   -  criterion: squared_error\n",
      "  (*) max_depth: 20\n",
      "  (*) max_features: 9\n",
      "   -  max_leaf_nodes: None\n",
      "   -  max_samples: None\n",
      "   -  min_impurity_decrease: 0.0\n",
      "  (*) min_samples_leaf: 1\n",
      "  (*) min_samples_split: 5\n",
      "   -  min_weight_fraction_leaf: 0.0\n",
      "   -  monotonic_cst: None\n",
      "  (*) n_estimators: 400\n",
      "   -  n_jobs: -1\n",
      "   -  oob_score: False\n",
      "   -  random_state: 55\n",
      "   -  verbose: 0\n",
      "   -  warm_start: False\n",
      "- Top 5 features:\n",
      "   -  'u100.13': 22.801 %\n",
      "   -  'iews.13': 21.599 %\n",
      "   -  'u10.13': 9.233 %\n",
      "   -  'inss.13': 7.467 %\n",
      "   -  'u10n.13': 4.397 %\n"
     ]
    }
   ],
   "source": [
    "print(\"Random Forest:\")\n",
    "training_time = time.time()  # start training time\n",
    "\n",
    "# MODEL SETUP\n",
    "params = {\n",
    "    'max_depth': [5, 10, 15, 20, 30, 50],\n",
    "    'n_estimators': [50, 100, 200, 300, 400, 500],\n",
    "    'max_features': [1, 3, 6, 9, 12, 15, 20],\n",
    "    'min_samples_split': [2, 5, 10],\n",
    "    'min_samples_leaf': [1, 2, 5, 10]\n",
    "}  # params\n",
    "model = RandomizedSearchCV(\n",
    "    estimator=RandomForestRegressor(n_jobs=-1, random_state=SEED),  # model type\n",
    "    scoring='neg_root_mean_squared_error',  # inner evaluation metrics\n",
    "    param_distributions=params,  # hyperparameters ranges\n",
    "    cv=KFold(n_splits=K_FOLDS, shuffle=True, random_state=SEED),  # cross-validation inner evaluation\n",
    "    n_jobs=-1,  # parallel execution\n",
    "    verbose=False,  # execution messages\n",
    "    random_state=SEED,  # reproducibility\n",
    "    n_iter=BUDGET  # number of hyperparameters combinations\n",
    ")  # model\n",
    "\n",
    "# MODEL TRAINING\n",
    "x_train, x_test, y_train, y_test = train_test_split(X, Y, test_size=TEST_SIZE, random_state=SEED)\n",
    "# - training subset: x_train U y_train\n",
    "# - test subset: x_test U y_test\n",
    "numpy.random.seed(SEED) # reproducibility\n",
    "model.fit(x_train, y_train)\n",
    "\n",
    "best_params = model.best_params_ # params\n",
    "model = model.best_estimator_  # model\n",
    "\n",
    "# MODEL EVALUATION\n",
    "y_test_pred = model.predict(x_test)  # dependent feature model predictions\n",
    "rmse = numpy.sqrt(metrics.mean_squared_error(y_test, y_test_pred))\n",
    "r2 = numpy.clip(metrics.r2_score(y_test, y_test_pred), 0, 1)\n",
    "\n",
    "training_time = time.time() - training_time  # end training time\n",
    "\n",
    "models['Adjusted']['Decision Tree']['Random Forest'] = {\n",
    "    'Model': model,\n",
    "    'Params': best_params,\n",
    "    'Training time': training_time,\n",
    "    'RMSE': rmse,\n",
    "    'R2': r2\n",
    "}\n",
    "\n",
    "print(f\"- Training time: {training_time:.3f} s\")\n",
    "print(\"- Errors:\")\n",
    "print(f\"   -  RMSE: {rmse:.3f}\")\n",
    "print(f\"   -  R2: {r2:.3f}\")\n",
    "print(\"- Hyperparameters:\")\n",
    "for param, value in model.get_params().items():\n",
    "    if param in best_params:\n",
    "        print(f\"  (*) {param}: {value}\")\n",
    "    else:\n",
    "        print(f\"   -  {param}: {value}\")\n",
    "print(f\"- Top {IMPORTANT_FEATURES} features:\")\n",
    "for importance, feature in sorted(zip(model.feature_importances_, X.columns), reverse=True)[:IMPORTANT_FEATURES]:\n",
    "    print(f\"   -  '{feature}': {importance*100:.3f} %\")"
   ]
  },
  {
   "cell_type": "markdown",
   "metadata": {},
   "source": [
    "##### Results\n",
    "\n",
    "- **Ambos Random Forest superan indudablemente al *dummy model*** con un R2 significativamente mayor a 0.\n",
    "- **La diferencia de errores entre ambos es ínfima**, ~0.005 de R2 y ~5 de RMSE.\n",
    "- **No coinciden en cuáles son los atributos más importantes**. Sin embargo atribuyen porcentajes altos a los mismos atributos `u100.13` y `iews.13`.\n",
    "\n",
    "**El mejor modelo entre los dos es Random Forest ajustado** por muy poco.\n",
    "\n",
    "---\n",
    "\n",
    "- **Both Random Forest undoubtedly outperform the dummy model** with a significantly higher R-squared greater than 0.\n",
    "- **The difference in errors between both is minimal**, ~0.005 for R-squared and ~5 for RMSE.\n",
    "- **They do not agree on which attributes are the most important**. However, they attribute high percentages to the same attributes `u100.13` and `iews.13`.\n",
    "\n",
    "**The better model among the two is the Random Forest**, albeit slightly adjusted."
   ]
  },
  {
   "cell_type": "markdown",
   "metadata": {},
   "source": [
    "### k-Nearest Neighbors (k-NN)\n",
    "\n",
    "El próximo modelo que se probara es k-NN. Este algoritmo se emplea tanto en problemas de clasificación como de regresión y utiliza los k vecinos más cercanos a un valor para hacer predicciones.\n",
    "\n",
    "Fortalezas:\n",
    "- Es no paramétrico y por tanto no realiza suposiciones sobre los datos, permitiendole encontrar patrones complejos.\n",
    "- Se adapta bien a los cambios del conjunto de datos.\n",
    "- Simple de entender e interpretar.\n",
    "\n",
    "Debilidades:\n",
    "- Alto consumo computacional para el calculo de los vecinos más cercanos en conjuntos de datos grandes.\n",
    "- Alto consumo de memoria ya que almacena todos los datos de entrenamiento en conjuntos de datos grandes.\n",
    "- Sensible a los datos atípicos.\n",
    "- Se debe encontrar el valor óptimo o cercano a este de k.\n",
    "- No selecciona atributos ni determina su importancia.\n",
    "\n",
    "Para el correcto funcionamiento de k-NN se tienen que escalar los valores de los atributos. A continuación se prueban distintos métodos de escalado de los cuales se seleccionará uno para ser usado en algoritmos que requieran escalado.\n",
    "\n",
    "---\n",
    "\n",
    "The next model to be tested is k-NN (k-Nearest Neighbors). This algorithm is used in both classification and regression problems and relies on the k nearest neighbors to a given value to make predictions.\n",
    "\n",
    "Strengths:\n",
    "- It is non-parametric, meaning it makes no assumptions about the data, allowing it to discover complex patterns.\n",
    "- It adapts well to changes in the dataset.\n",
    "- Simple to understand and interpret.\n",
    "\n",
    "Weaknesses:\n",
    "- High computational overhead for calculating nearest neighbors in large datasets.\n",
    "- High memory consumption as it stores all training data in large datasets.\n",
    "- Sensitive to outliers.\n",
    "- The optimal or near-optimal value of k needs to be determined.\n",
    "- Does not select attributes or determine their importance.\n",
    "\n",
    "For k-NN to function properly, attribute values need to be scaled. Different scaling methods will be tested, and one will be selected for use in algorithms requiring scaling."
   ]
  },
  {
   "cell_type": "markdown",
   "metadata": {},
   "source": [
    "#### Default hyperparameters"
   ]
  },
  {
   "cell_type": "markdown",
   "metadata": {},
   "source": [
    "##### Standard Scaler\n",
    "\n",
    "Escala los valores de los atributos para que tengan una media de 0 y una desviación típica de 1. Es particularmente útil cuando los atributos tienen diferentes escalas como en el caso del conjunto de datos usados.\n",
    "\n",
    "---\n",
    "\n",
    "It scales the attribute values so that they have a mean of 0 and a standard deviation of 1. It is particularly useful when attributes have different scales as in the case of the dataset used."
   ]
  },
  {
   "cell_type": "code",
   "execution_count": 18,
   "metadata": {},
   "outputs": [
    {
     "name": "stdout",
     "output_type": "stream",
     "text": [
      "k-NN with Standard Scaler:\n",
      "- Training time: 0.116 s\n",
      "- Errors:\n",
      "   -  RMSE: 386.086\n",
      "   -  R2: 0.651\n",
      "- Hyperparameters:\n",
      "   -  algorithm: auto\n",
      "   -  leaf_size: 30\n",
      "   -  metric: minkowski\n",
      "   -  metric_params: None\n",
      "   -  n_jobs: None\n",
      "   -  n_neighbors: 5\n",
      "   -  p: 2\n",
      "   -  weights: uniform\n"
     ]
    }
   ],
   "source": [
    "from sklearn.neighbors import KNeighborsRegressor\n",
    "from sklearn.preprocessing import StandardScaler\n",
    "\n",
    "print(\"k-NN with Standard Scaler:\")\n",
    "training_time = time.time()  # start training time\n",
    "\n",
    "# MODEL SETUP\n",
    "model = Pipeline([\n",
    "    ('scaler', StandardScaler()),  # scaler type\n",
    "    ('estimator', KNeighborsRegressor())  # model type\n",
    "])\n",
    "\n",
    "# MODEL TRAINING\n",
    "x_train, x_test, y_train, y_test = train_test_split(X, Y, test_size=TEST_SIZE, random_state=SEED)\n",
    "# - training subset: x_train U y_train\n",
    "# - test subset: x_test U y_test\n",
    "numpy.random.seed(SEED) # reproducibility\n",
    "model.fit(x_train, y_train)\n",
    "\n",
    "# MODEL EVALUATION\n",
    "y_test_pred = model.predict(x_test)  # dependent feature model predictions\n",
    "rmse = numpy.sqrt(metrics.mean_squared_error(y_test, y_test_pred))\n",
    "r2 = numpy.clip(metrics.r2_score(y_test, y_test_pred), 0, 1)\n",
    "\n",
    "training_time = time.time() - training_time  # end training time\n",
    "\n",
    "models['Non-Adjusted']['k-NN'] = {\n",
    "    'k-NN with Standard Scaler': {\n",
    "        'Model': model['estimator'],\n",
    "        'Training time': training_time,\n",
    "        'RMSE': rmse,\n",
    "        'R2': r2\n",
    "    }\n",
    "}\n",
    "\n",
    "print(f\"- Training time: {training_time:.3f} s\")\n",
    "print(\"- Errors:\")\n",
    "print(f\"   -  RMSE: {rmse:.3f}\")\n",
    "print(f\"   -  R2: {r2:.3f}\")\n",
    "print(\"- Hyperparameters:\")\n",
    "for param, value in model['estimator'].get_params().items():\n",
    "    print(f\"   -  {param}: {value}\")"
   ]
  },
  {
   "cell_type": "markdown",
   "metadata": {},
   "source": [
    "##### Min-Max Scaler\n",
    "\n",
    "Escala los valores de los atributos a un rango fijo, generalmente entre 0 y 1, restando a cada valor el mínimo de un atributo y dividiendo por la diferencia del máximo y mínimo de ese atributo. Es útil en algoritmos basados en cálculos de distancias como k-NN o SVM porque evita que unos atributos dominen sobre otros ya que tienen escalas similares.\n",
    "\n",
    "---\n",
    "\n",
    "It scales the attribute values to a fixed range, usually between 0 and 1, by subtracting the minimum of an attribute from each value and dividing by the difference between the maximum and minimum of that attribute. It is useful in algorithms based on distance calculations like k-NN or SVM because it prevents some attributes from dominating over others since they have similar scales."
   ]
  },
  {
   "cell_type": "code",
   "execution_count": 19,
   "metadata": {},
   "outputs": [
    {
     "name": "stdout",
     "output_type": "stream",
     "text": [
      "k-NN with Min-Max Scaler:\n",
      "- Training time: 0.021 s\n",
      "- Errors:\n",
      "   -  RMSE: 395.285\n",
      "   -  R2: 0.634\n",
      "- Hyperparameters:\n",
      "   -  algorithm: auto\n",
      "   -  leaf_size: 30\n",
      "   -  metric: minkowski\n",
      "   -  metric_params: None\n",
      "   -  n_jobs: None\n",
      "   -  n_neighbors: 5\n",
      "   -  p: 2\n",
      "   -  weights: uniform\n"
     ]
    }
   ],
   "source": [
    "from sklearn.preprocessing import MinMaxScaler\n",
    "\n",
    "print(\"k-NN with Min-Max Scaler:\")\n",
    "training_time = time.time()  # start training time\n",
    "\n",
    "# MODEL SETUP\n",
    "model = Pipeline([\n",
    "    ('scaler', MinMaxScaler()),  # scaler type\n",
    "    ('estimator', KNeighborsRegressor())  # model type\n",
    "])\n",
    "\n",
    "# MODEL TRAINING\n",
    "x_train, x_test, y_train, y_test = train_test_split(X, Y, test_size=TEST_SIZE, random_state=SEED)\n",
    "# - training subset: x_train U y_train\n",
    "# - test subset: x_test U y_test\n",
    "numpy.random.seed(SEED) # reproducibility\n",
    "model.fit(x_train, y_train)\n",
    "\n",
    "# MODEL EVALUATION\n",
    "y_test_pred = model.predict(x_test)  # dependent feature model predictions\n",
    "rmse = numpy.sqrt(metrics.mean_squared_error(y_test, y_test_pred))\n",
    "r2 = numpy.clip(metrics.r2_score(y_test, y_test_pred), 0, 1)\n",
    "\n",
    "training_time = time.time() - training_time  # end training time\n",
    "\n",
    "models['Non-Adjusted']['k-NN']['k-NN with Min-Max Scaler'] = {\n",
    "    'Model': model['estimator'],\n",
    "    'Training time': training_time,\n",
    "    'RMSE': rmse,\n",
    "    'R2': r2\n",
    "}\n",
    "\n",
    "print(f\"- Training time: {training_time:.3f} s\")\n",
    "print(\"- Errors:\")\n",
    "print(f\"   -  RMSE: {rmse:.3f}\")\n",
    "print(f\"   -  R2: {r2:.3f}\")\n",
    "print(\"- Hyperparameters:\")\n",
    "for param, value in model['estimator'].get_params().items():\n",
    "    print(f\"   -  {param}: {value}\")"
   ]
  },
  {
   "cell_type": "markdown",
   "metadata": {},
   "source": [
    "##### Robust Scaler\n",
    "\n",
    "Escala los valores de los atributos utilizando la mediana y el rango intercuartílico. Es útil cuando el conjunto de datos presenta valores atípicos o una distribución no Gaussiana, como por ejemplo la distribución de la variable objetivo.\n",
    "\n",
    "---\n",
    "\n",
    "It scales the attribute values using the median and the interquartile range. It's useful when the dataset contains outliers or a non-Gaussian distribution, such as the distribution of the target variable."
   ]
  },
  {
   "cell_type": "code",
   "execution_count": 20,
   "metadata": {},
   "outputs": [
    {
     "name": "stdout",
     "output_type": "stream",
     "text": [
      "k-NN with Robust Scaler:\n",
      "- Training time: 0.022 s\n",
      "- Errors:\n",
      "   -  RMSE: 385.862\n",
      "   -  R2: 0.652\n",
      "- Hyperparameters:\n",
      "   -  algorithm: auto\n",
      "   -  leaf_size: 30\n",
      "   -  metric: minkowski\n",
      "   -  metric_params: None\n",
      "   -  n_jobs: None\n",
      "   -  n_neighbors: 5\n",
      "   -  p: 2\n",
      "   -  weights: uniform\n"
     ]
    }
   ],
   "source": [
    "from sklearn.preprocessing import RobustScaler\n",
    "\n",
    "print(\"k-NN with Robust Scaler:\")\n",
    "training_time = time.time()  # start training time\n",
    "\n",
    "# MODEL SETUP\n",
    "model = Pipeline([\n",
    "    ('scaler', RobustScaler()),  # scaler type\n",
    "    ('estimator', KNeighborsRegressor())  # model type\n",
    "])\n",
    "\n",
    "# MODEL TRAINING\n",
    "x_train, x_test, y_train, y_test = train_test_split(X, Y, test_size=TEST_SIZE, random_state=SEED)\n",
    "# - training subset: x_train U y_train\n",
    "# - test subset: x_test U y_test\n",
    "numpy.random.seed(SEED) # reproducibility\n",
    "model.fit(x_train, y_train)\n",
    "\n",
    "# MODEL EVALUATION\n",
    "y_test_pred = model.predict(x_test)  # dependent feature model predictions\n",
    "rmse = numpy.sqrt(metrics.mean_squared_error(y_test, y_test_pred))\n",
    "r2 = numpy.clip(metrics.r2_score(y_test, y_test_pred), 0, 1)\n",
    "\n",
    "training_time = time.time() - training_time  # end training time\n",
    "\n",
    "models['Non-Adjusted']['k-NN']['k-NN with Robust Scaler'] = {\n",
    "    'Model': model['estimator'],\n",
    "    'Training time': training_time,\n",
    "    'RMSE': rmse,\n",
    "    'R2': r2\n",
    "}\n",
    "\n",
    "print(f\"- Training time: {training_time:.3f} s\")\n",
    "print(\"- Errors:\")\n",
    "print(f\"   -  RMSE: {rmse:.3f}\")\n",
    "print(f\"   -  R2: {r2:.3f}\")\n",
    "print(\"- Hyperparameters:\")\n",
    "for param, value in model['estimator'].get_params().items():\n",
    "    print(f\"   -  {param}: {value}\")"
   ]
  },
  {
   "cell_type": "markdown",
   "metadata": {},
   "source": [
    "##### Normalizer Scaler\n",
    "\n",
    "Escala los valores de los atributos como vectores con norma unitaria, es decir, longitud del vector de 1 unidad. Es útil cuando la dirección de los datos importa más que su valor.\n",
    "\n",
    "---\n",
    "\n",
    "Scales the attribute values as vectors with unit norm, meaning the length of the vector is 1 unit. It is useful when the direction of the data matters more than its value."
   ]
  },
  {
   "cell_type": "code",
   "execution_count": 21,
   "metadata": {},
   "outputs": [
    {
     "name": "stdout",
     "output_type": "stream",
     "text": [
      "k-NN with Normalizer Scaler:\n",
      "- Training time: 0.017 s\n",
      "- Errors:\n",
      "   -  RMSE: 635.963\n",
      "   -  R2: 0.054\n",
      "- Hyperparameters:\n",
      "   -  algorithm: auto\n",
      "   -  leaf_size: 30\n",
      "   -  metric: minkowski\n",
      "   -  metric_params: None\n",
      "   -  n_jobs: None\n",
      "   -  n_neighbors: 5\n",
      "   -  p: 2\n",
      "   -  weights: uniform\n"
     ]
    }
   ],
   "source": [
    "from sklearn.preprocessing import Normalizer\n",
    "\n",
    "print(\"k-NN with Normalizer Scaler:\")\n",
    "training_time = time.time()  # start training time\n",
    "\n",
    "# MODEL SETUP\n",
    "model = Pipeline([\n",
    "    ('scaler', Normalizer()),  # scaler type\n",
    "    ('estimator', KNeighborsRegressor())  # model type\n",
    "])\n",
    "\n",
    "# MODEL TRAINING\n",
    "x_train, x_test, y_train, y_test = train_test_split(X, Y, test_size=TEST_SIZE, random_state=SEED)\n",
    "# - training subset: x_train U y_train\n",
    "# - test subset: x_test U y_test\n",
    "numpy.random.seed(SEED) # reproducibility\n",
    "model.fit(x_train, y_train)\n",
    "\n",
    "# MODEL EVALUATION\n",
    "y_test_pred = model.predict(x_test)  # dependent feature model predictions\n",
    "rmse = numpy.sqrt(metrics.mean_squared_error(y_test, y_test_pred))\n",
    "r2 = numpy.clip(metrics.r2_score(y_test, y_test_pred), 0, 1)\n",
    "\n",
    "training_time = time.time() - training_time  # end training time\n",
    "\n",
    "models['Non-Adjusted']['k-NN']['k-NN with Normalizer Scaler'] = {\n",
    "    'Model': model['estimator'],\n",
    "    'Training time': training_time,\n",
    "    'RMSE': rmse,\n",
    "    'R2': r2\n",
    "}\n",
    "\n",
    "print(f\"- Training time: {training_time:.3f} s\")\n",
    "print(\"- Errors:\")\n",
    "print(f\"   -  RMSE: {rmse:.3f}\")\n",
    "print(f\"   -  R2: {r2:.3f}\")\n",
    "print(\"- Hyperparameters:\")\n",
    "for param, value in model['estimator'].get_params().items():\n",
    "    print(f\"   -  {param}: {value}\")"
   ]
  },
  {
   "cell_type": "markdown",
   "metadata": {},
   "source": [
    "##### Scaler results\n",
    "\n",
    "- El Standard Scaler, Min-Max Scaler y Robust Scaler se comportan bien debido a que son adecuados para el conjunto de datos que se usa. Sin embargo, el Normalizer Scaler se esperaba que no obtuviera buenos resultados debido a que en este problema no es importante la dirección de los datos.\n",
    "\n",
    "**Se utilizará Standard Scaler** por obtener buenos resultados (~0.65 en R2 y ~380 en RMSE) y resultar útil en este problema con distintas escalas.\n",
    "\n",
    "---\n",
    "\n",
    "- The Standard Scaler, Min-Max Scaler, and Robust Scaler perform well because they are suitable for the dataset being used. However, it was expected that the Normalizer Scaler would not yield good results since in this problem, the data direction is not important.\n",
    "  \n",
    "**Standard Scaler will be used** due to its good results (around 0.65 in R2 and around 380 in RMSE) and its usefulness in this problem with different scales."
   ]
  },
  {
   "cell_type": "code",
   "execution_count": 22,
   "metadata": {},
   "outputs": [],
   "source": [
    "X_scaled = StandardScaler().fit_transform(X)"
   ]
  },
  {
   "cell_type": "markdown",
   "metadata": {},
   "source": [
    "#### Custom hyperparameters\n",
    "\n",
    "El principal hiperparámetro que se va a ajustar es:\n",
    "- `n_neighbors`: número de vecnios más cercanos.\n",
    "\n",
    "Otros hiperparámetros interesantes con los que experimentar son:\n",
    "- `p`: el parámetro que generaliza la distancia en la fórmula de Minkowski (1 => distancia Manhattan, 2 => distancia Euclidea).\n",
    "- `weights`: controla el peso que tienen los vecinos en el cálculo de la distancia.\n",
    "\n",
    "---\n",
    "\n",
    "The main hyperparameter to be tuned is:\n",
    "- `n_neighbors`: number of nearest neighbors.\n",
    "\n",
    "Other interesting hyperparameters to experiment with are:\n",
    "- `p`: the parameter that generalizes the distance in the Minkowski formula (1 => Manhattan distance, 2 => Euclidean distance).\n",
    "- `weights`: controls the weight of neighbors in distance calculation."
   ]
  },
  {
   "cell_type": "code",
   "execution_count": 23,
   "metadata": {},
   "outputs": [
    {
     "name": "stdout",
     "output_type": "stream",
     "text": [
      "k-NN with Standard Scaler:\n"
     ]
    },
    {
     "name": "stdout",
     "output_type": "stream",
     "text": [
      "- Training time: 1.405 s\n",
      "- Errors:\n",
      "   -  RMSE: 361.917\n",
      "   -  R2: 0.694\n",
      "- Hyperparameters:\n",
      "   -  algorithm: auto\n",
      "   -  leaf_size: 30\n",
      "   -  metric: minkowski\n",
      "   -  metric_params: None\n",
      "   -  n_jobs: None\n",
      "  (*) n_neighbors: 15\n",
      "  (*) p: 1\n",
      "  (*) weights: distance\n"
     ]
    }
   ],
   "source": [
    "print(\"k-NN with Standard Scaler:\")\n",
    "training_time = time.time()  # start training time\n",
    "\n",
    "# MODEL SETUP\n",
    "params = {\n",
    "    'n_neighbors': [1, 3, 5, 10, 15, 30, 50, 100, 200, 500],\n",
    "    'p': [1, 2],\n",
    "    'weights': ['uniform', 'distance']\n",
    "}  # params\n",
    "model = RandomizedSearchCV(\n",
    "    estimator=KNeighborsRegressor(),  # model type\n",
    "    scoring='neg_root_mean_squared_error',  # inner evaluation metrics\n",
    "    param_distributions=params,  # hyperparameters ranges\n",
    "    cv=KFold(n_splits=K_FOLDS, shuffle=True, random_state=SEED),  # cross-validation inner evaluation\n",
    "    n_jobs=-1,  # parallel execution\n",
    "    verbose=False,  # execution messages\n",
    "    random_state=SEED,  # reproducibility\n",
    "    n_iter=BUDGET  # number of hyperparameters combinations\n",
    ")  # model\n",
    "\n",
    "# MODEL TRAINING\n",
    "x_train, x_test, y_train, y_test = train_test_split(X_scaled, Y, test_size=TEST_SIZE, random_state=SEED)\n",
    "# - training subset: x_train U y_train\n",
    "# - test subset: x_test U y_test\n",
    "numpy.random.seed(SEED) # reproducibility\n",
    "model.fit(x_train, y_train)\n",
    "\n",
    "best_params = model.best_params_ # params\n",
    "model = model.best_estimator_  # model\n",
    "\n",
    "# MODEL EVALUATION\n",
    "y_test_pred = model.predict(x_test)  # dependent feature model predictions\n",
    "rmse = numpy.sqrt(metrics.mean_squared_error(y_test, y_test_pred))\n",
    "r2 = numpy.clip(metrics.r2_score(y_test, y_test_pred), 0, 1)\n",
    "\n",
    "training_time = time.time() - training_time  # end training time\n",
    "\n",
    "models['Adjusted']['k-NN'] = {\n",
    "    'k-NN with Standard Scaler': {\n",
    "        'Model': model,\n",
    "        'Params': best_params,\n",
    "        'Training time': training_time,\n",
    "        'RMSE': rmse,\n",
    "        'R2': r2\n",
    "    }\n",
    "}\n",
    "\n",
    "print(f\"- Training time: {training_time:.3f} s\")\n",
    "print(\"- Errors:\")\n",
    "print(f\"   -  RMSE: {rmse:.3f}\")\n",
    "print(f\"   -  R2: {r2:.3f}\")\n",
    "print(\"- Hyperparameters:\")\n",
    "for param, value in model.get_params().items():\n",
    "    if param in best_params:\n",
    "        print(f\"  (*) {param}: {value}\")\n",
    "    else:\n",
    "        print(f\"   -  {param}: {value}\")"
   ]
  },
  {
   "cell_type": "markdown",
   "metadata": {},
   "source": [
    "#### Results\n",
    "\n",
    "- **Ambos k-NN superan indudablemente al *dummy model*** con un R2 significativamente mayor a 0.\n",
    "- **k-NN con los hiperparámetros ajustados supera ligeramente al no ajustado** con ~0.05 más en R2 y ~20 menos en RMSE.\n",
    "\n",
    "**El mejor modelo es el k-NN con los hiperparámetros ajustados** por una diferencia pequeña.\n",
    "\n",
    "---\n",
    "\n",
    "- **Both k-NN models undoubtedly outperform the dummy model** with a significantly higher R-squared greater than 0.\n",
    "- **k-NN with adjusted hyperparameters slightly outperforms the unadjusted one** with approximately 0.05 more in R-squared and around 20 less in RMSE.\n",
    "\n",
    "**The best model is the k-NN with adjusted hyperparameters** by a small margin."
   ]
  },
  {
   "cell_type": "markdown",
   "metadata": {},
   "source": [
    "### Linear Regressor\n",
    "\n",
    "El próximo modelo a probar es el regresor lineal. El funcionamiento de este regresor estdístico es simple, utilizando minimos cuadrádos se minimiza la diferencia cuadrática de los valores observados y los valores predichos.\n",
    "\n",
    "Fortalezas:\n",
    "- Computacionalmente eficiente comparado a otros modelos de regresión.\n",
    "- Se adapta bien a los cambios del conjunto de datos.\n",
    "- Los resultados son interpretables gracias a que los pesos establecen la fuerza de la relación entre variables independientes y variable objetivo.\n",
    "\n",
    "Debilidades:\n",
    "- Asume una relación lineal entre las variables independientes y la variable dependiente.\n",
    "- Sensible a los datos atípicos.\n",
    "- Puede infraaprender si la relación entre las variables independientes y la variable objetivo es no lineal.\n",
    "- Sólo trabaja con atributos numéricos.\n",
    "\n",
    "Al igual que k-NN, necesita escalar los valores de los atributos para el correcto funcionamiento. Para ello se utiliza el método de escalado que dio mejores resultados con k-NN.\n",
    "\n",
    "---\n",
    "\n",
    "The next model to try is the linear regressor. The operation of this statistical regressor is simple, using least squares to minimize the squared difference between observed and predicted values.\n",
    "\n",
    "Strengths:\n",
    "- Computationally efficient compared to other regression models.\n",
    "- Adapts well to changes in the dataset.\n",
    "- Results are interpretable as the weights establish the strength of the relationship between independent variables and the target variable.\n",
    "\n",
    "Weaknesses:\n",
    "- Assumes a linear relationship between independent variables and the dependent variable.\n",
    "- Sensitive to outliers.\n",
    "- May underfit if the relationship between independent variables and the target variable is nonlinear.\n",
    "- Works only with numerical attributes.\n",
    "\n",
    "Like k-NN, it requires scaling of attribute values for proper functioning. The scaling method that yielded the best results with k-NN is used for this purpose."
   ]
  },
  {
   "cell_type": "code",
   "execution_count": 24,
   "metadata": {},
   "outputs": [
    {
     "name": "stdout",
     "output_type": "stream",
     "text": [
      "Linear Regressor:\n",
      "- Training time: 0.019 s\n",
      "- Errors:\n",
      "   -  RMSE: 523.610\n",
      "   -  R2: 0.359\n",
      "- Hyperparameters:\n",
      "   -  copy_X: True\n",
      "   -  fit_intercept: True\n",
      "   -  n_jobs: None\n",
      "   -  positive: False\n"
     ]
    }
   ],
   "source": [
    "from sklearn.linear_model import LinearRegression\n",
    "\n",
    "print(\"Linear Regressor:\")\n",
    "training_time = time.time()  # start training time\n",
    "\n",
    "# MODEL SETUP\n",
    "model = LinearRegression()  # model\n",
    "\n",
    "# MODEL TRAINING\n",
    "x_train, x_test, y_train, y_test = train_test_split(X_scaled, Y, test_size=TEST_SIZE, random_state=SEED)\n",
    "# - training subset: x_train U y_train\n",
    "# - test subset: x_test U y_test\n",
    "numpy.random.seed(SEED) # reproducibility\n",
    "model.fit(x_train, y_train)\n",
    "\n",
    "# MODEL EVALUATION\n",
    "y_test_pred = model.predict(x_test)  # dependent feature model predictions\n",
    "rmse = numpy.sqrt(metrics.mean_squared_error(y_test, y_test_pred))\n",
    "r2 = numpy.clip(metrics.r2_score(y_test, y_test_pred), 0, 1)\n",
    "\n",
    "training_time = time.time() - training_time  # end training time\n",
    "\n",
    "models['Non-Adjusted']['Linear Regressor'] = {\n",
    "    'Linear Regressor': {\n",
    "        'Model': model,\n",
    "        'Training time': training_time,\n",
    "        'RMSE': rmse,\n",
    "        'R2': r2\n",
    "    }\n",
    "}\n",
    "\n",
    "print(f\"- Training time: {training_time:.3f} s\")\n",
    "print(\"- Errors:\")\n",
    "print(f\"   -  RMSE: {rmse:.3f}\")\n",
    "print(f\"   -  R2: {r2:.3f}\")\n",
    "print(\"- Hyperparameters:\")\n",
    "for param, value in model.get_params().items():\n",
    "    print(f\"   -  {param}: {value}\")"
   ]
  },
  {
   "cell_type": "markdown",
   "metadata": {},
   "source": [
    "#### Lasso\n",
    "\n",
    "El regresor Lasso o regularización L1 es una extensión del regresor lineal. Lasso utiliza como función objetivo la suma de los valores absolutos de los coeficientes junto con un parámetro que penaliza la dispersión. \n",
    "\n",
    "Hereda parte de las fortalezas y debilidades del regresor lineal.\n",
    "\n",
    "Fortalezas:\n",
    "- El parámetro puede seleccionar los atributos más importantes anulando los coeficientes de los menos importantes.\n",
    "\n",
    "Debilidades:\n",
    "- Es inestable si existen correlaciones fuertes entre los atributos.\n",
    "\n",
    "---\n",
    "\n",
    "The Lasso regressor or L1 regularization is an extension of linear regression. Lasso uses as an objective function the sum of the absolute values of the coefficients along with a parameter that penalizes the spread.\n",
    "\n",
    "It inherits some of the strengths and weaknesses of linear regression.\n",
    "\n",
    "Strengths:\n",
    "- The parameter can select the most important attributes by zeroing out the coefficients of the least important ones.\n",
    "\n",
    "Weaknesses:\n",
    "- It is unstable if there are strong correlations between the attributes."
   ]
  },
  {
   "cell_type": "code",
   "execution_count": 25,
   "metadata": {},
   "outputs": [
    {
     "name": "stdout",
     "output_type": "stream",
     "text": [
      "Lasso:\n",
      "- Training time: 0.118 s\n",
      "- Errors:\n",
      "   -  RMSE: 525.337\n",
      "   -  R2: 0.354\n",
      "- Hyperparameters:\n",
      "   -  alpha: 1.0\n",
      "   -  copy_X: True\n",
      "   -  fit_intercept: True\n",
      "   -  max_iter: 1000\n",
      "   -  positive: False\n",
      "   -  precompute: False\n",
      "   -  random_state: None\n",
      "   -  selection: cyclic\n",
      "   -  tol: 0.0001\n",
      "   -  warm_start: False\n"
     ]
    }
   ],
   "source": [
    "from sklearn.linear_model import Lasso\n",
    "\n",
    "print(\"Lasso:\")\n",
    "training_time = time.time()  # start training time\n",
    "\n",
    "# MODEL SETUP\n",
    "model = Lasso()  # model\n",
    "\n",
    "# MODEL TRAINING\n",
    "x_train, x_test, y_train, y_test = train_test_split(X_scaled, Y, test_size=TEST_SIZE, random_state=SEED)\n",
    "# - training subset: x_train U y_train\n",
    "# - test subset: x_test U y_test\n",
    "numpy.random.seed(SEED) # reproducibility\n",
    "model.fit(x_train, y_train)\n",
    "\n",
    "# MODEL EVALUATION\n",
    "y_test_pred = model.predict(x_test)  # dependent feature model predictions\n",
    "rmse = numpy.sqrt(metrics.mean_squared_error(y_test, y_test_pred))\n",
    "r2 = numpy.clip(metrics.r2_score(y_test, y_test_pred), 0, 1)\n",
    "\n",
    "training_time = time.time() - training_time  # end training time\n",
    "\n",
    "models['Non-Adjusted']['Linear Regressor']['Lasso'] = {\n",
    "    'Model': model,\n",
    "    'Training time': training_time,\n",
    "    'RMSE': rmse,\n",
    "    'R2': r2\n",
    "}\n",
    "\n",
    "print(f\"- Training time: {training_time:.3f} s\")\n",
    "print(\"- Errors:\")\n",
    "print(f\"   -  RMSE: {rmse:.3f}\")\n",
    "print(f\"   -  R2: {r2:.3f}\")\n",
    "print(\"- Hyperparameters:\")\n",
    "for param, value in model.get_params().items():\n",
    "    print(f\"   -  {param}: {value}\")"
   ]
  },
  {
   "cell_type": "markdown",
   "metadata": {},
   "source": [
    "#### Ridge\n",
    "\n",
    "El regresor Ridge o regularización L2 es una extensión del regresor lineal. Ridge utiliza como función objetivo la suma de la raíz cuadrada de los valores de los coeficientes junto con un parámetro que penaliza la magnitud de los coeficientes. \n",
    "\n",
    "Hereda parte de las fortalezas y debilidades del regresor lineal.\n",
    "\n",
    "Fortalezas:\n",
    "- Tiene menor varianza que Lasso.\n",
    "\n",
    "Debilidades:\n",
    "- Aunque los coeficientes puedan tomar valores cercanos a cero, nunca se anulan y por tanto o se descartan atributos como en Lasso.\n",
    "- Es menos interpretable puesto que añade un término más a la fórumla comparado con el regresor lineal.\n",
    "\n",
    "---\n",
    "\n",
    "The Ridge regressor or L2 regularization is an extension of linear regression. Ridge uses as an objective function the sum of the square root of the coefficient values along with a parameter that penalizes the magnitude of the coefficients.\n",
    "\n",
    "It inherits some of the strengths and weaknesses of linear regression.\n",
    "\n",
    "Strengths:\n",
    "- Lower variance than Lasso.\n",
    "\n",
    "Weaknesses:\n",
    "- Although coefficients can take values close to zero, they are never zeroed out like in Lasso, so it doesn't discard attributes.\n",
    "- Less interpretable because it adds an additional term to the formula compared to linear regression."
   ]
  },
  {
   "cell_type": "code",
   "execution_count": 26,
   "metadata": {},
   "outputs": [
    {
     "name": "stdout",
     "output_type": "stream",
     "text": [
      "Ridge:\n",
      "- Training time: 0.023 s\n",
      "- Errors:\n",
      "   -  RMSE: 523.487\n",
      "   -  R2: 0.359\n",
      "- Hyperparameters:\n",
      "   -  alpha: 1.0\n",
      "   -  copy_X: True\n",
      "   -  fit_intercept: True\n",
      "   -  max_iter: None\n",
      "   -  positive: False\n",
      "   -  random_state: None\n",
      "   -  solver: auto\n",
      "   -  tol: 0.0001\n"
     ]
    }
   ],
   "source": [
    "from sklearn.linear_model import Ridge\n",
    "\n",
    "print(\"Ridge:\")\n",
    "training_time = time.time()  # start training time\n",
    "\n",
    "# MODEL SETUP\n",
    "model = Ridge()  # model\n",
    "\n",
    "# MODEL TRAINING\n",
    "x_train, x_test, y_train, y_test = train_test_split(X_scaled, Y, test_size=TEST_SIZE, random_state=SEED)\n",
    "# - training subset: x_train U y_train\n",
    "# - test subset: x_test U y_test\n",
    "numpy.random.seed(SEED) # reproducibility\n",
    "model.fit(x_train, y_train)\n",
    "\n",
    "# MODEL EVALUATION\n",
    "y_test_pred = model.predict(x_test)  # dependent feature model predictions\n",
    "rmse = numpy.sqrt(metrics.mean_squared_error(y_test, y_test_pred))\n",
    "r2 = numpy.clip(metrics.r2_score(y_test, y_test_pred), 0, 1)\n",
    "\n",
    "training_time = time.time() - training_time  # end training time\n",
    "\n",
    "models['Non-Adjusted']['Linear Regressor']['Ridge'] = {\n",
    "    'Model': model,\n",
    "    'Training time': training_time,\n",
    "    'RMSE': rmse,\n",
    "    'R2': r2\n",
    "}\n",
    "\n",
    "print(f\"- Training time: {training_time:.3f} s\")\n",
    "print(\"- Errors:\")\n",
    "print(f\"   -  RMSE: {rmse:.3f}\")\n",
    "print(f\"   -  R2: {r2:.3f}\")\n",
    "print(\"- Hyperparameters:\")\n",
    "for param, value in model.get_params().items():\n",
    "    print(f\"   -  {param}: {value}\")"
   ]
  },
  {
   "cell_type": "markdown",
   "metadata": {},
   "source": [
    "#### Results\n",
    "\n",
    "- Los errores cometidos por el regresor lineal, Lasso y Ridge son similares, un R2 de ~0.35 y un RMSE de ~520. Aunque indudablemente sean mejores modelos que el *dummy model*, **los resultados obtenidos son pobres**.\n",
    "- Los errores altos sugieren que **la relación entre la energía y las variables independientes no es lineal**.\n",
    "- Puesto que la relación es no lineal, **no se realizá ajuste de hiperparámetros para el resgresor lineal, Lasso y Ridge porque no se conseguirá mejorar los resultados significativamente**.\n",
    "\n",
    "---\n",
    "\n",
    "- The errors made by the linear regressor, Lasso, and Ridge are similar, with an R2 of ~0.35 and an RMSE of ~520. Although they are undoubtedly better models than the dummy model, **the results obtained are poor**.\n",
    "- The high errors suggest that **the relationship between energy and the independent variables is not linear**.\n",
    "- Since the relationship is non-linear, **no hyperparameter tuning will be performed for the linear regressor, Lasso, and Ridge because significant improvement in the results will not be achieved**."
   ]
  },
  {
   "cell_type": "markdown",
   "metadata": {},
   "source": [
    "### Support Vector Machine (SVM)\n",
    "\n",
    "Otro modelo de aprendizaje automático que no podía faltar es SVM. Este algoritmo puede resolver tanto problemas de clasificación como de regresión. En clasificación SVM busca el hiperplano que mejor divide varias clases. En regresión en cambio, se busca el hiperplano que mejor se adapta a los puntos.\n",
    "\n",
    "Fortalezas:\n",
    "- Efectivo cuando se utilizan espacios de suficientemente alta dimesnionalidad.\n",
    "- A diferencia de algoritmos como k-NN, hace un uso eficiente de la memoria ya que utiliza solo vectores de soporte.\n",
    "- Efectivo con conjuntos de datos pequeños.\n",
    "- Robusto al sobreaprendizaje sobre todo en espacios de alta dimensionalidad.\n",
    "\n",
    "Debilidades:\n",
    "- Sensible al ruido en el conjunto de datos.\n",
    "- Sensible al ajuste de sus hiperparámetros.\n",
    "- Difícil de interpretar sobre todo en espacios de alta dimensionalidad.\n",
    "- Para problemas de clasificación no binarios, sobrecargan el cómputo utilizando técnicas adicionales como *one-vs-one* o *one-vs-rest*.\n",
    "\n",
    "Puesto que internamente se basa en el cálculo de distancias, necesita escalar los valores de los atributos para su correcto funcionamiento.\n",
    "\n",
    "---\n",
    "\n",
    "Another machine learning model that couldn't be missing is SVM. This algorithm can solve both classification and regression problems. In classification, SVM seeks the hyperplane that best separates multiple classes. In regression, on the other hand, it looks for the hyperplane that best fits the points.\n",
    "\n",
    "Strengths:\n",
    "- Effective when using sufficiently high-dimensional spaces.\n",
    "- Unlike algorithms like k-NN, it efficiently uses memory since it only uses support vectors.\n",
    "- Effective with small datasets.\n",
    "- Robust to overfitting, especially in high-dimensional spaces.\n",
    "\n",
    "Weaknesses:\n",
    "- Sensitive to noise in the dataset.\n",
    "- Sensitive to the tuning of its hyperparameters.\n",
    "- Difficult to interpret, especially in high-dimensional spaces.\n",
    "- For non-binary classification problems, computational overhead is increased using additional techniques such as one-vs-one or one-vs-rest.\n",
    "\n",
    "Since it internally relies on distance calculations, it requires scaling attribute values for proper functioning."
   ]
  },
  {
   "cell_type": "markdown",
   "metadata": {},
   "source": [
    "#### Default hyperparameters"
   ]
  },
  {
   "cell_type": "markdown",
   "metadata": {},
   "source": [
    "##### Linear SVM\n",
    "\n",
    "Utiliza la función de kernel más simple, un kernel lineal que divide el espacio de características de forma lineal.\n",
    "\n",
    "---\n",
    "\n",
    "It uses the simplest kernel function, a linear kernel, which divides the feature space linearly."
   ]
  },
  {
   "cell_type": "code",
   "execution_count": 27,
   "metadata": {},
   "outputs": [
    {
     "name": "stdout",
     "output_type": "stream",
     "text": [
      "Linear SVM:\n"
     ]
    },
    {
     "name": "stdout",
     "output_type": "stream",
     "text": [
      "- Training time: 0.469 s\n",
      "- Errors:\n",
      "   -  RMSE: 561.572\n",
      "   -  R2: 0.262\n",
      "- Hyperparameters:\n",
      "   -  C: 1.0\n",
      "   -  cache_size: 200\n",
      "   -  coef0: 0.0\n",
      "   -  degree: 3\n",
      "   -  epsilon: 0.1\n",
      "   -  gamma: scale\n",
      "   -  kernel: linear\n",
      "   -  max_iter: -1\n",
      "   -  shrinking: True\n",
      "   -  tol: 0.001\n",
      "   -  verbose: False\n"
     ]
    }
   ],
   "source": [
    "from sklearn.svm import SVR\n",
    "\n",
    "print(\"Linear SVM:\")\n",
    "training_time = time.time()  # start training time\n",
    "\n",
    "# MODEL SETUP\n",
    "model = SVR(kernel='linear')  # model\n",
    "\n",
    "# MODEL TRAINING\n",
    "x_train, x_test, y_train, y_test = train_test_split(X_scaled, Y, test_size=TEST_SIZE, random_state=SEED)\n",
    "# - training subset: x_train U y_train\n",
    "# - test subset: x_test U y_test\n",
    "numpy.random.seed(SEED) # reproducibility\n",
    "model.fit(x_train, y_train)\n",
    "\n",
    "# MODEL EVALUATION\n",
    "y_test_pred = model.predict(x_test)  # dependent feature model predictions\n",
    "rmse = numpy.sqrt(metrics.mean_squared_error(y_test, y_test_pred))\n",
    "r2 = numpy.clip(metrics.r2_score(y_test, y_test_pred), 0, 1)\n",
    "\n",
    "training_time = time.time() - training_time  # end training time\n",
    "\n",
    "models['Non-Adjusted']['SVM'] = {\n",
    "    'Linear': {\n",
    "        'Model': model,\n",
    "        'Training time': training_time,\n",
    "        'RMSE': rmse,\n",
    "        'R2': r2\n",
    "    }\n",
    "}\n",
    "\n",
    "print(f\"- Training time: {training_time:.3f} s\")\n",
    "print(\"- Errors:\")\n",
    "print(f\"   -  RMSE: {rmse:.3f}\")\n",
    "print(f\"   -  R2: {r2:.3f}\")\n",
    "print(\"- Hyperparameters:\")\n",
    "for param, value in model.get_params().items():\n",
    "    print(f\"   -  {param}: {value}\")"
   ]
  },
  {
   "cell_type": "markdown",
   "metadata": {},
   "source": [
    "##### Polynomial SVM\n",
    "\n",
    "Utiliza una función de kernel polinomial.\n",
    "\n",
    "---\n",
    "\n",
    "Uses a polynomial kernel function."
   ]
  },
  {
   "cell_type": "code",
   "execution_count": 28,
   "metadata": {},
   "outputs": [
    {
     "name": "stdout",
     "output_type": "stream",
     "text": [
      "Polynomial SVM:\n",
      "- Training time: 0.447 s\n",
      "- Errors:\n",
      "   -  RMSE: 613.047\n",
      "   -  R2: 0.121\n",
      "- Hyperparameters:\n",
      "   -  C: 1.0\n",
      "   -  cache_size: 200\n",
      "   -  coef0: 0.0\n",
      "   -  degree: 3\n",
      "   -  epsilon: 0.1\n",
      "   -  gamma: scale\n",
      "   -  kernel: poly\n",
      "   -  max_iter: -1\n",
      "   -  shrinking: True\n",
      "   -  tol: 0.001\n",
      "   -  verbose: False\n"
     ]
    }
   ],
   "source": [
    "print(\"Polynomial SVM:\")\n",
    "training_time = time.time()  # start training time\n",
    "\n",
    "# MODEL SETUP\n",
    "model = SVR(kernel='poly')  # model\n",
    "\n",
    "# MODEL TRAINING\n",
    "x_train, x_test, y_train, y_test = train_test_split(X_scaled, Y, test_size=TEST_SIZE, random_state=SEED)\n",
    "# - training subset: x_train U y_train\n",
    "# - test subset: x_test U y_test\n",
    "numpy.random.seed(SEED) # reproducibility\n",
    "model.fit(x_train, y_train)\n",
    "\n",
    "# MODEL EVALUATION\n",
    "y_test_pred = model.predict(x_test)  # dependent feature model predictions\n",
    "rmse = numpy.sqrt(metrics.mean_squared_error(y_test, y_test_pred))\n",
    "r2 = numpy.clip(metrics.r2_score(y_test, y_test_pred), 0, 1)\n",
    "\n",
    "training_time = time.time() - training_time  # end training time\n",
    "\n",
    "models['Non-Adjusted']['SVM']['Polynomial'] = {\n",
    "    'Model': model,\n",
    "    'Training time': training_time,\n",
    "    'RMSE': rmse,\n",
    "    'R2': r2\n",
    "}\n",
    "\n",
    "print(f\"- Training time: {training_time:.3f} s\")\n",
    "print(\"- Errors:\")\n",
    "print(f\"   -  RMSE: {rmse:.3f}\")\n",
    "print(f\"   -  R2: {r2:.3f}\")\n",
    "print(\"- Hyperparameters:\")\n",
    "for param, value in model.get_params().items():\n",
    "    print(f\"   -  {param}: {value}\")"
   ]
  },
  {
   "cell_type": "markdown",
   "metadata": {},
   "source": [
    "##### Radial SVM\n",
    "\n",
    "Utiliza el conocido kernel gausiano. Este es el más usado y permite encontrar relaciones no lineales complejas en los datos.\n",
    "\n",
    "---\n",
    "\n",
    "Uses the well-known Gaussian kernel. This is the most commonly used kernel and allows for finding complex nonlinear relationships in the data."
   ]
  },
  {
   "cell_type": "code",
   "execution_count": 29,
   "metadata": {},
   "outputs": [
    {
     "name": "stdout",
     "output_type": "stream",
     "text": [
      "Radial SVM:\n",
      "- Training time: 0.588 s\n",
      "- Errors:\n",
      "   -  RMSE: 617.756\n",
      "   -  R2: 0.107\n",
      "- Hyperparameters:\n",
      "   -  C: 1.0\n",
      "   -  cache_size: 200\n",
      "   -  coef0: 0.0\n",
      "   -  degree: 3\n",
      "   -  epsilon: 0.1\n",
      "   -  gamma: scale\n",
      "   -  kernel: rbf\n",
      "   -  max_iter: -1\n",
      "   -  shrinking: True\n",
      "   -  tol: 0.001\n",
      "   -  verbose: False\n"
     ]
    }
   ],
   "source": [
    "print(\"Radial SVM:\")\n",
    "training_time = time.time()  # start training time\n",
    "\n",
    "# MODEL SETUP\n",
    "model = SVR()  # model\n",
    "\n",
    "# MODEL TRAINING\n",
    "x_train, x_test, y_train, y_test = train_test_split(X_scaled, Y, test_size=TEST_SIZE, random_state=SEED)\n",
    "# - training subset: x_train U y_train\n",
    "# - test subset: x_test U y_test\n",
    "numpy.random.seed(SEED) # reproducibility\n",
    "model.fit(x_train, y_train)\n",
    "\n",
    "# MODEL EVALUATION\n",
    "y_test_pred = model.predict(x_test)  # dependent feature model predictions\n",
    "rmse = numpy.sqrt(metrics.mean_squared_error(y_test, y_test_pred))\n",
    "r2 = numpy.clip(metrics.r2_score(y_test, y_test_pred), 0, 1)\n",
    "\n",
    "training_time = time.time() - training_time  # end training time\n",
    "\n",
    "models['Non-Adjusted']['SVM']['Radial'] = {\n",
    "    'Model': model,\n",
    "    'Training time': training_time,\n",
    "    'RMSE': rmse,\n",
    "    'R2': r2\n",
    "}\n",
    "\n",
    "print(f\"- Training time: {training_time:.3f} s\")\n",
    "print(\"- Errors:\")\n",
    "print(f\"   -  RMSE: {rmse:.3f}\")\n",
    "print(f\"   -  R2: {r2:.3f}\")\n",
    "print(\"- Hyperparameters:\")\n",
    "for param, value in model.get_params().items():\n",
    "    print(f\"   -  {param}: {value}\")"
   ]
  },
  {
   "cell_type": "markdown",
   "metadata": {},
   "source": [
    "##### Sigmoid SVM\n",
    "\n",
    "Utiliza una función de kernel basada en la función tangente hiperbólica.\n",
    "\n",
    "---\n",
    "\n",
    "It uses a kernel function based on the hyperbolic tangent function."
   ]
  },
  {
   "cell_type": "code",
   "execution_count": 30,
   "metadata": {},
   "outputs": [
    {
     "name": "stdout",
     "output_type": "stream",
     "text": [
      "Sigmoid SVM:\n",
      "- Training time: 0.902 s\n",
      "- Errors:\n",
      "   -  RMSE: 637.160\n",
      "   -  R2: 0.050\n",
      "- Hyperparameters:\n",
      "   -  C: 1.0\n",
      "   -  cache_size: 200\n",
      "   -  coef0: 0.0\n",
      "   -  degree: 3\n",
      "   -  epsilon: 0.1\n",
      "   -  gamma: scale\n",
      "   -  kernel: sigmoid\n",
      "   -  max_iter: -1\n",
      "   -  shrinking: True\n",
      "   -  tol: 0.001\n",
      "   -  verbose: False\n"
     ]
    }
   ],
   "source": [
    "print(\"Sigmoid SVM:\")\n",
    "training_time = time.time()  # start training time\n",
    "\n",
    "# MODEL SETUP\n",
    "model = SVR(kernel='sigmoid')  # model\n",
    "\n",
    "# MODEL TRAINING\n",
    "x_train, x_test, y_train, y_test = train_test_split(X_scaled, Y, test_size=TEST_SIZE, random_state=SEED)\n",
    "# - training subset: x_train U y_train\n",
    "# - test subset: x_test U y_test\n",
    "numpy.random.seed(SEED) # reproducibility\n",
    "model.fit(x_train, y_train)\n",
    "\n",
    "# MODEL EVALUATION\n",
    "y_test_pred = model.predict(x_test)  # dependent feature model predictions\n",
    "rmse = numpy.sqrt(metrics.mean_squared_error(y_test, y_test_pred))\n",
    "r2 = numpy.clip(metrics.r2_score(y_test, y_test_pred), 0, 1)\n",
    "\n",
    "training_time = time.time() - training_time  # end training time\n",
    "\n",
    "models['Non-Adjusted']['SVM']['Sigmoid'] = {\n",
    "    'Model': model,\n",
    "    'Training time': training_time,\n",
    "    'RMSE': rmse,\n",
    "    'R2': r2\n",
    "}\n",
    "\n",
    "print(f\"- Training time: {training_time:.3f} s\")\n",
    "print(\"- Errors:\")\n",
    "print(f\"   -  RMSE: {rmse:.3f}\")\n",
    "print(f\"   -  R2: {r2:.3f}\")\n",
    "print(\"- Hyperparameters:\")\n",
    "for param, value in model.get_params().items():\n",
    "    print(f\"   -  {param}: {value}\")"
   ]
  },
  {
   "cell_type": "markdown",
   "metadata": {},
   "source": [
    "##### Kernel results\n",
    "\n",
    "- Aunque los resultados de todos los kernels probados con los hiperparámetros sin ajustar sean muy pobres y no muy lejos del *dummy model*, entre ellos resulta que **el mejor es el kernel lineal**. Sin embargo, como se ha visto con los regresores lineales, parece no existir linealidad en los datos.\n",
    "- Por eso aunque el SVM lineal haya dado mejores resultados, **no se van a ajustar los hiperparámetros del kernel lineal**. De entre los no lineales **se ajustará el kernel radial** por las expectativas de éxito. A diferencia del kernel radial, el polinomial se necesita ajustar su grado lo que se intuye llevará mucho más tiempo y el sigmoidal se ha demostrado más útil en problemas de clasificación binarios no lineales.\n",
    "\n",
    "---\n",
    "\n",
    "- Although the results of all kernels tested with the unadjusted hyperparameters are very poor and not far from the dummy model, it turns out that **the best one is the linear kernel**. However, as seen with linear regressors, linearity seems not to exist in the data.\n",
    "- Therefore, even though the linear SVM yielded better results, **the hyperparameters of the linear kernel will not be adjusted**. Among the non-linear ones, **the radial kernel will be adjusted** due to the expectations of success. Unlike the radial kernel, the polynomial one requires adjusting its degree, which is expected to take much longer, and the sigmoidal one has been shown to be more useful in nonlinear binary classification problems."
   ]
  },
  {
   "cell_type": "markdown",
   "metadata": {},
   "source": [
    "#### Custom hyperparameters\n",
    "\n",
    "El principal hiperparámetro que se va a ajustar es:\n",
    "- `C`: el parámetro de regularización que determina la suavidad de la frontera de decisión.\n",
    "\n",
    "Otros hiperparámetros interesantes con los que experimentar son:\n",
    "- `gamma`: el parámetro en todos los kernels que determina la complejidad de las fronteras de decisión.\n",
    "- `epsilon`: margen de tolerancia que define la anchura de las fronteras de decisión.\n",
    "\n",
    "---\n",
    "\n",
    "The main hyperparameter to adjust is:\n",
    "- `C`: the regularization parameter that determines the smoothness of the decision boundary.\n",
    "\n",
    "Other interesting hyperparameters to experiment with are:\n",
    "- `gamma`: the parameter in all kernels that determines the complexity of the decision boundaries.\n",
    "- `epsilon`: tolerance margin that defines the width of the decision boundaries."
   ]
  },
  {
   "cell_type": "code",
   "execution_count": 31,
   "metadata": {},
   "outputs": [
    {
     "name": "stdout",
     "output_type": "stream",
     "text": [
      "Radial SVM:\n"
     ]
    },
    {
     "name": "stdout",
     "output_type": "stream",
     "text": [
      "- Training time: 43.139 s\n",
      "- Errors:\n",
      "   -  RMSE: 342.944\n",
      "   -  R2: 0.725\n",
      "- Hyperparameters:\n",
      "  (*) C: 10000\n",
      "   -  cache_size: 200\n",
      "   -  coef0: 0.0\n",
      "   -  degree: 3\n",
      "  (*) epsilon: 0.01\n",
      "  (*) gamma: 0.01\n",
      "   -  kernel: rbf\n",
      "   -  max_iter: -1\n",
      "   -  shrinking: True\n",
      "   -  tol: 0.001\n",
      "   -  verbose: False\n"
     ]
    }
   ],
   "source": [
    "print(\"Radial SVM:\")\n",
    "training_time = time.time()  # start training time\n",
    "\n",
    "# MODEL SETUP\n",
    "params = {\n",
    "    'C': [1, 10, 100, 1000, 10000, 20000], \n",
    "    'gamma': [1, 0.1, 0.01, 0.001, 0.0001],\n",
    "    'epsilon': [0, 0.1, 0.01, 0.001]\n",
    "}  # params\n",
    "model = RandomizedSearchCV(\n",
    "    estimator=SVR(),  # model type\n",
    "    scoring='neg_root_mean_squared_error',  # inner evaluation metrics\n",
    "    param_distributions=params,  # hyperparameters ranges\n",
    "    cv=KFold(n_splits=K_FOLDS, shuffle=True, random_state=SEED),  # cross-validation inner evaluation\n",
    "    n_jobs=-1,  # parallel execution\n",
    "    verbose=False,  # execution messages\n",
    "    random_state=SEED,  # reproducibility\n",
    "    n_iter=BUDGET  # number of hyperparameters combinations\n",
    ")  # model\n",
    "\n",
    "# MODEL TRAINING\n",
    "x_train, x_test, y_train, y_test = train_test_split(X_scaled, Y, test_size=TEST_SIZE, random_state=SEED)\n",
    "# - training subset: x_train U y_train\n",
    "# - test subset: x_test U y_test\n",
    "numpy.random.seed(SEED) # reproducibility\n",
    "model.fit(x_train, y_train)\n",
    "\n",
    "best_params = model.best_params_ # params\n",
    "model = model.best_estimator_  # model\n",
    "\n",
    "# MODEL EVALUATION\n",
    "y_test_pred = model.predict(x_test)  # dependent feature model predictions\n",
    "rmse = numpy.sqrt(metrics.mean_squared_error(y_test, y_test_pred))\n",
    "r2 = numpy.clip(metrics.r2_score(y_test, y_test_pred), 0, 1)\n",
    "\n",
    "training_time = time.time() - training_time  # end training time\n",
    "\n",
    "models['Adjusted']['SVM'] = {\n",
    "    'Radial': {\n",
    "        'Model': model,\n",
    "        'Params': best_params,\n",
    "        'Training time': training_time,\n",
    "        'RMSE': rmse,\n",
    "        'R2': r2\n",
    "    }\n",
    "}\n",
    "\n",
    "print(f\"- Training time: {training_time:.3f} s\")\n",
    "print(\"- Errors:\")\n",
    "print(f\"   -  RMSE: {rmse:.3f}\")\n",
    "print(f\"   -  R2: {r2:.3f}\")\n",
    "print(\"- Hyperparameters:\")\n",
    "for param, value in model.get_params().items():\n",
    "    if param in best_params:\n",
    "        print(f\"  (*) {param}: {value}\")\n",
    "    else:\n",
    "        print(f\"   -  {param}: {value}\")"
   ]
  },
  {
   "cell_type": "markdown",
   "metadata": {},
   "source": [
    "##### Results\n",
    "\n",
    "- **La mejora del SVM ajustado frente a cualquier otro SVM no ajustado es significativa**, el R2 del ajustado es ~0.7 y el RMSE ~350. Esto demuestra por qué es importante hacer ajuste de los hiperparámetros en SVM.\n",
    "- **El SVM con los hiperparámetros ajustados supera indudablemente al *dummy model***.\n",
    "\n",
    "No hay duda de que **el SVM radial con hiperparámetros ajustados es el mejor modelo entre todos los SVM probados**.\n",
    "\n",
    "---\n",
    "\n",
    "- **The improvement of the adjusted SVM compared to any other unadjusted SVM is significant**, with the adjusted R2 being ~0.7 and the RMSE ~350. This demonstrates why it is important to tune the hyperparameters in SVM.\n",
    "- **The SVM with the adjusted hyperparameters undoubtedly outperforms the dummy model**.\n",
    "\n",
    "There is no doubt that **the radial SVM with adjusted hyperparameters is the best model among all the SVMs tested**."
   ]
  },
  {
   "cell_type": "markdown",
   "metadata": {},
   "source": [
    "### Comparation"
   ]
  },
  {
   "cell_type": "code",
   "execution_count": 32,
   "metadata": {},
   "outputs": [
    {
     "data": {
      "text/html": [
       "<style type=\"text/css\">\n",
       "#T_1b208 th {\n",
       "  text-align: center;\n",
       "  vertical-align: middle;\n",
       "}\n",
       "#T_1b208  td {\n",
       "  text-align: center;\n",
       "  vertical-align: middle;\n",
       "}\n",
       "#T_1b208_row0_col0, #T_1b208_row0_col1, #T_1b208_row0_col2, #T_1b208_row0_col3, #T_1b208_row0_col4, #T_1b208_row0_col5, #T_1b208_row1_col0, #T_1b208_row1_col1, #T_1b208_row1_col2, #T_1b208_row1_col3, #T_1b208_row1_col4, #T_1b208_row1_col5, #T_1b208_row2_col0, #T_1b208_row2_col1, #T_1b208_row2_col2, #T_1b208_row2_col3, #T_1b208_row2_col4, #T_1b208_row2_col5, #T_1b208_row3_col0, #T_1b208_row3_col1, #T_1b208_row3_col2, #T_1b208_row3_col3, #T_1b208_row3_col4, #T_1b208_row3_col5, #T_1b208_row4_col0, #T_1b208_row4_col1, #T_1b208_row4_col2, #T_1b208_row4_col3, #T_1b208_row4_col4, #T_1b208_row4_col5, #T_1b208_row5_col0, #T_1b208_row5_col1, #T_1b208_row5_col2, #T_1b208_row5_col3, #T_1b208_row5_col4, #T_1b208_row5_col5, #T_1b208_row6_col0, #T_1b208_row6_col1, #T_1b208_row6_col2, #T_1b208_row6_col3, #T_1b208_row6_col4, #T_1b208_row6_col5, #T_1b208_row7_col0, #T_1b208_row7_col1, #T_1b208_row7_col2, #T_1b208_row7_col3, #T_1b208_row7_col4, #T_1b208_row7_col5, #T_1b208_row8_col0, #T_1b208_row8_col1, #T_1b208_row8_col2, #T_1b208_row8_col3, #T_1b208_row8_col4, #T_1b208_row8_col5, #T_1b208_row9_col0, #T_1b208_row9_col1, #T_1b208_row9_col2, #T_1b208_row9_col3, #T_1b208_row9_col4, #T_1b208_row9_col5, #T_1b208_row10_col0, #T_1b208_row10_col1, #T_1b208_row10_col2, #T_1b208_row10_col3, #T_1b208_row10_col4, #T_1b208_row10_col5, #T_1b208_row11_col0, #T_1b208_row11_col1, #T_1b208_row11_col2, #T_1b208_row11_col3, #T_1b208_row11_col4, #T_1b208_row11_col5, #T_1b208_row12_col0, #T_1b208_row12_col1, #T_1b208_row12_col2, #T_1b208_row12_col3, #T_1b208_row12_col4, #T_1b208_row12_col5, #T_1b208_row13_col0, #T_1b208_row13_col1, #T_1b208_row13_col2, #T_1b208_row13_col3, #T_1b208_row13_col4, #T_1b208_row13_col5, #T_1b208_row14_col0, #T_1b208_row14_col1, #T_1b208_row14_col2, #T_1b208_row14_col3, #T_1b208_row14_col4, #T_1b208_row14_col5, #T_1b208_row15_col0, #T_1b208_row15_col1, #T_1b208_row15_col2, #T_1b208_row15_col3, #T_1b208_row15_col4, #T_1b208_row15_col5, #T_1b208_row16_col0, #T_1b208_row16_col1, #T_1b208_row16_col2, #T_1b208_row16_col3, #T_1b208_row16_col4, #T_1b208_row16_col5, #T_1b208_row17_col0, #T_1b208_row17_col1, #T_1b208_row17_col2, #T_1b208_row17_col3, #T_1b208_row17_col4, #T_1b208_row17_col5 {\n",
       "  text-align: center;\n",
       "  vertical-align: middle;\n",
       "}\n",
       "</style>\n",
       "<table id=\"T_1b208\">\n",
       "  <thead>\n",
       "    <tr>\n",
       "      <th class=\"blank level0\" >&nbsp;</th>\n",
       "      <th id=\"T_1b208_level0_col0\" class=\"col_heading level0 col0\" >Hyperparameters</th>\n",
       "      <th id=\"T_1b208_level0_col1\" class=\"col_heading level0 col1\" >Type</th>\n",
       "      <th id=\"T_1b208_level0_col2\" class=\"col_heading level0 col2\" >Algorithm</th>\n",
       "      <th id=\"T_1b208_level0_col3\" class=\"col_heading level0 col3\" >Training time</th>\n",
       "      <th id=\"T_1b208_level0_col4\" class=\"col_heading level0 col4\" >RMSE</th>\n",
       "      <th id=\"T_1b208_level0_col5\" class=\"col_heading level0 col5\" >R2</th>\n",
       "    </tr>\n",
       "  </thead>\n",
       "  <tbody>\n",
       "    <tr>\n",
       "      <th id=\"T_1b208_level0_row0\" class=\"row_heading level0 row0\" >0</th>\n",
       "      <td id=\"T_1b208_row0_col0\" class=\"data row0 col0\" >Non-adjusted</td>\n",
       "      <td id=\"T_1b208_row0_col1\" class=\"data row0 col1\" >Dummy Regressor</td>\n",
       "      <td id=\"T_1b208_row0_col2\" class=\"data row0 col2\" >Mean</td>\n",
       "      <td id=\"T_1b208_row0_col3\" class=\"data row0 col3\" >0.006 s</td>\n",
       "      <td id=\"T_1b208_row0_col4\" class=\"data row0 col4\" >654.043</td>\n",
       "      <td id=\"T_1b208_row0_col5\" class=\"data row0 col5\" >0.000</td>\n",
       "    </tr>\n",
       "    <tr>\n",
       "      <th id=\"T_1b208_level0_row1\" class=\"row_heading level0 row1\" >1</th>\n",
       "      <td id=\"T_1b208_row1_col0\" class=\"data row1 col0\" >Non-adjusted</td>\n",
       "      <td id=\"T_1b208_row1_col1\" class=\"data row1 col1\" >Decision Tree</td>\n",
       "      <td id=\"T_1b208_row1_col2\" class=\"data row1 col2\" >CART</td>\n",
       "      <td id=\"T_1b208_row1_col3\" class=\"data row1 col3\" >0.107 s</td>\n",
       "      <td id=\"T_1b208_row1_col4\" class=\"data row1 col4\" >475.075</td>\n",
       "      <td id=\"T_1b208_row1_col5\" class=\"data row1 col5\" >0.472</td>\n",
       "    </tr>\n",
       "    <tr>\n",
       "      <th id=\"T_1b208_level0_row2\" class=\"row_heading level0 row2\" >2</th>\n",
       "      <td id=\"T_1b208_row2_col0\" class=\"data row2 col0\" >Non-adjusted</td>\n",
       "      <td id=\"T_1b208_row2_col1\" class=\"data row2 col1\" >Decision Tree</td>\n",
       "      <td id=\"T_1b208_row2_col2\" class=\"data row2 col2\" >Random Forest</td>\n",
       "      <td id=\"T_1b208_row2_col3\" class=\"data row2 col3\" >1.465 s</td>\n",
       "      <td id=\"T_1b208_row2_col4\" class=\"data row2 col4\" >342.519</td>\n",
       "      <td id=\"T_1b208_row2_col5\" class=\"data row2 col5\" >0.726</td>\n",
       "    </tr>\n",
       "    <tr>\n",
       "      <th id=\"T_1b208_level0_row3\" class=\"row_heading level0 row3\" >3</th>\n",
       "      <td id=\"T_1b208_row3_col0\" class=\"data row3 col0\" >Non-adjusted</td>\n",
       "      <td id=\"T_1b208_row3_col1\" class=\"data row3 col1\" >k-NN</td>\n",
       "      <td id=\"T_1b208_row3_col2\" class=\"data row3 col2\" >k-NN with Standard Scaler</td>\n",
       "      <td id=\"T_1b208_row3_col3\" class=\"data row3 col3\" >0.116 s</td>\n",
       "      <td id=\"T_1b208_row3_col4\" class=\"data row3 col4\" >386.086</td>\n",
       "      <td id=\"T_1b208_row3_col5\" class=\"data row3 col5\" >0.651</td>\n",
       "    </tr>\n",
       "    <tr>\n",
       "      <th id=\"T_1b208_level0_row4\" class=\"row_heading level0 row4\" >4</th>\n",
       "      <td id=\"T_1b208_row4_col0\" class=\"data row4 col0\" >Non-adjusted</td>\n",
       "      <td id=\"T_1b208_row4_col1\" class=\"data row4 col1\" >k-NN</td>\n",
       "      <td id=\"T_1b208_row4_col2\" class=\"data row4 col2\" >k-NN with Min-Max Scaler</td>\n",
       "      <td id=\"T_1b208_row4_col3\" class=\"data row4 col3\" >0.021 s</td>\n",
       "      <td id=\"T_1b208_row4_col4\" class=\"data row4 col4\" >395.285</td>\n",
       "      <td id=\"T_1b208_row4_col5\" class=\"data row4 col5\" >0.634</td>\n",
       "    </tr>\n",
       "    <tr>\n",
       "      <th id=\"T_1b208_level0_row5\" class=\"row_heading level0 row5\" >5</th>\n",
       "      <td id=\"T_1b208_row5_col0\" class=\"data row5 col0\" >Non-adjusted</td>\n",
       "      <td id=\"T_1b208_row5_col1\" class=\"data row5 col1\" >k-NN</td>\n",
       "      <td id=\"T_1b208_row5_col2\" class=\"data row5 col2\" >k-NN with Robust Scaler</td>\n",
       "      <td id=\"T_1b208_row5_col3\" class=\"data row5 col3\" >0.022 s</td>\n",
       "      <td id=\"T_1b208_row5_col4\" class=\"data row5 col4\" >385.862</td>\n",
       "      <td id=\"T_1b208_row5_col5\" class=\"data row5 col5\" >0.652</td>\n",
       "    </tr>\n",
       "    <tr>\n",
       "      <th id=\"T_1b208_level0_row6\" class=\"row_heading level0 row6\" >6</th>\n",
       "      <td id=\"T_1b208_row6_col0\" class=\"data row6 col0\" >Non-adjusted</td>\n",
       "      <td id=\"T_1b208_row6_col1\" class=\"data row6 col1\" >k-NN</td>\n",
       "      <td id=\"T_1b208_row6_col2\" class=\"data row6 col2\" >k-NN with Normalizer Scaler</td>\n",
       "      <td id=\"T_1b208_row6_col3\" class=\"data row6 col3\" >0.017 s</td>\n",
       "      <td id=\"T_1b208_row6_col4\" class=\"data row6 col4\" >635.963</td>\n",
       "      <td id=\"T_1b208_row6_col5\" class=\"data row6 col5\" >0.054</td>\n",
       "    </tr>\n",
       "    <tr>\n",
       "      <th id=\"T_1b208_level0_row7\" class=\"row_heading level0 row7\" >7</th>\n",
       "      <td id=\"T_1b208_row7_col0\" class=\"data row7 col0\" >Non-adjusted</td>\n",
       "      <td id=\"T_1b208_row7_col1\" class=\"data row7 col1\" >Linear Regressor</td>\n",
       "      <td id=\"T_1b208_row7_col2\" class=\"data row7 col2\" >Linear Regressor</td>\n",
       "      <td id=\"T_1b208_row7_col3\" class=\"data row7 col3\" >0.019 s</td>\n",
       "      <td id=\"T_1b208_row7_col4\" class=\"data row7 col4\" >523.610</td>\n",
       "      <td id=\"T_1b208_row7_col5\" class=\"data row7 col5\" >0.359</td>\n",
       "    </tr>\n",
       "    <tr>\n",
       "      <th id=\"T_1b208_level0_row8\" class=\"row_heading level0 row8\" >8</th>\n",
       "      <td id=\"T_1b208_row8_col0\" class=\"data row8 col0\" >Non-adjusted</td>\n",
       "      <td id=\"T_1b208_row8_col1\" class=\"data row8 col1\" >Linear Regressor</td>\n",
       "      <td id=\"T_1b208_row8_col2\" class=\"data row8 col2\" >Lasso</td>\n",
       "      <td id=\"T_1b208_row8_col3\" class=\"data row8 col3\" >0.118 s</td>\n",
       "      <td id=\"T_1b208_row8_col4\" class=\"data row8 col4\" >525.337</td>\n",
       "      <td id=\"T_1b208_row8_col5\" class=\"data row8 col5\" >0.354</td>\n",
       "    </tr>\n",
       "    <tr>\n",
       "      <th id=\"T_1b208_level0_row9\" class=\"row_heading level0 row9\" >9</th>\n",
       "      <td id=\"T_1b208_row9_col0\" class=\"data row9 col0\" >Non-adjusted</td>\n",
       "      <td id=\"T_1b208_row9_col1\" class=\"data row9 col1\" >Linear Regressor</td>\n",
       "      <td id=\"T_1b208_row9_col2\" class=\"data row9 col2\" >Ridge</td>\n",
       "      <td id=\"T_1b208_row9_col3\" class=\"data row9 col3\" >0.023 s</td>\n",
       "      <td id=\"T_1b208_row9_col4\" class=\"data row9 col4\" >523.487</td>\n",
       "      <td id=\"T_1b208_row9_col5\" class=\"data row9 col5\" >0.359</td>\n",
       "    </tr>\n",
       "    <tr>\n",
       "      <th id=\"T_1b208_level0_row10\" class=\"row_heading level0 row10\" >10</th>\n",
       "      <td id=\"T_1b208_row10_col0\" class=\"data row10 col0\" >Non-adjusted</td>\n",
       "      <td id=\"T_1b208_row10_col1\" class=\"data row10 col1\" >SVM</td>\n",
       "      <td id=\"T_1b208_row10_col2\" class=\"data row10 col2\" >Linear</td>\n",
       "      <td id=\"T_1b208_row10_col3\" class=\"data row10 col3\" >0.469 s</td>\n",
       "      <td id=\"T_1b208_row10_col4\" class=\"data row10 col4\" >561.572</td>\n",
       "      <td id=\"T_1b208_row10_col5\" class=\"data row10 col5\" >0.262</td>\n",
       "    </tr>\n",
       "    <tr>\n",
       "      <th id=\"T_1b208_level0_row11\" class=\"row_heading level0 row11\" >11</th>\n",
       "      <td id=\"T_1b208_row11_col0\" class=\"data row11 col0\" >Non-adjusted</td>\n",
       "      <td id=\"T_1b208_row11_col1\" class=\"data row11 col1\" >SVM</td>\n",
       "      <td id=\"T_1b208_row11_col2\" class=\"data row11 col2\" >Polynomial</td>\n",
       "      <td id=\"T_1b208_row11_col3\" class=\"data row11 col3\" >0.447 s</td>\n",
       "      <td id=\"T_1b208_row11_col4\" class=\"data row11 col4\" >613.047</td>\n",
       "      <td id=\"T_1b208_row11_col5\" class=\"data row11 col5\" >0.121</td>\n",
       "    </tr>\n",
       "    <tr>\n",
       "      <th id=\"T_1b208_level0_row12\" class=\"row_heading level0 row12\" >12</th>\n",
       "      <td id=\"T_1b208_row12_col0\" class=\"data row12 col0\" >Non-adjusted</td>\n",
       "      <td id=\"T_1b208_row12_col1\" class=\"data row12 col1\" >SVM</td>\n",
       "      <td id=\"T_1b208_row12_col2\" class=\"data row12 col2\" >Radial</td>\n",
       "      <td id=\"T_1b208_row12_col3\" class=\"data row12 col3\" >0.588 s</td>\n",
       "      <td id=\"T_1b208_row12_col4\" class=\"data row12 col4\" >617.756</td>\n",
       "      <td id=\"T_1b208_row12_col5\" class=\"data row12 col5\" >0.107</td>\n",
       "    </tr>\n",
       "    <tr>\n",
       "      <th id=\"T_1b208_level0_row13\" class=\"row_heading level0 row13\" >13</th>\n",
       "      <td id=\"T_1b208_row13_col0\" class=\"data row13 col0\" >Non-adjusted</td>\n",
       "      <td id=\"T_1b208_row13_col1\" class=\"data row13 col1\" >SVM</td>\n",
       "      <td id=\"T_1b208_row13_col2\" class=\"data row13 col2\" >Sigmoid</td>\n",
       "      <td id=\"T_1b208_row13_col3\" class=\"data row13 col3\" >0.902 s</td>\n",
       "      <td id=\"T_1b208_row13_col4\" class=\"data row13 col4\" >637.160</td>\n",
       "      <td id=\"T_1b208_row13_col5\" class=\"data row13 col5\" >0.050</td>\n",
       "    </tr>\n",
       "    <tr>\n",
       "      <th id=\"T_1b208_level0_row14\" class=\"row_heading level0 row14\" >14</th>\n",
       "      <td id=\"T_1b208_row14_col0\" class=\"data row14 col0\" >Adjusted</td>\n",
       "      <td id=\"T_1b208_row14_col1\" class=\"data row14 col1\" >Decision Tree</td>\n",
       "      <td id=\"T_1b208_row14_col2\" class=\"data row14 col2\" >CART</td>\n",
       "      <td id=\"T_1b208_row14_col3\" class=\"data row14 col3\" >2.098 s</td>\n",
       "      <td id=\"T_1b208_row14_col4\" class=\"data row14 col4\" >412.886</td>\n",
       "      <td id=\"T_1b208_row14_col5\" class=\"data row14 col5\" >0.601</td>\n",
       "    </tr>\n",
       "    <tr>\n",
       "      <th id=\"T_1b208_level0_row15\" class=\"row_heading level0 row15\" >15</th>\n",
       "      <td id=\"T_1b208_row15_col0\" class=\"data row15 col0\" >Adjusted</td>\n",
       "      <td id=\"T_1b208_row15_col1\" class=\"data row15 col1\" >Decision Tree</td>\n",
       "      <td id=\"T_1b208_row15_col2\" class=\"data row15 col2\" >Random Forest</td>\n",
       "      <td id=\"T_1b208_row15_col3\" class=\"data row15 col3\" >100.375 s</td>\n",
       "      <td id=\"T_1b208_row15_col4\" class=\"data row15 col4\" >338.227</td>\n",
       "      <td id=\"T_1b208_row15_col5\" class=\"data row15 col5\" >0.732</td>\n",
       "    </tr>\n",
       "    <tr>\n",
       "      <th id=\"T_1b208_level0_row16\" class=\"row_heading level0 row16\" >16</th>\n",
       "      <td id=\"T_1b208_row16_col0\" class=\"data row16 col0\" >Adjusted</td>\n",
       "      <td id=\"T_1b208_row16_col1\" class=\"data row16 col1\" >k-NN</td>\n",
       "      <td id=\"T_1b208_row16_col2\" class=\"data row16 col2\" >k-NN with Standard Scaler</td>\n",
       "      <td id=\"T_1b208_row16_col3\" class=\"data row16 col3\" >1.405 s</td>\n",
       "      <td id=\"T_1b208_row16_col4\" class=\"data row16 col4\" >361.917</td>\n",
       "      <td id=\"T_1b208_row16_col5\" class=\"data row16 col5\" >0.694</td>\n",
       "    </tr>\n",
       "    <tr>\n",
       "      <th id=\"T_1b208_level0_row17\" class=\"row_heading level0 row17\" >17</th>\n",
       "      <td id=\"T_1b208_row17_col0\" class=\"data row17 col0\" >Adjusted</td>\n",
       "      <td id=\"T_1b208_row17_col1\" class=\"data row17 col1\" >SVM</td>\n",
       "      <td id=\"T_1b208_row17_col2\" class=\"data row17 col2\" >Radial</td>\n",
       "      <td id=\"T_1b208_row17_col3\" class=\"data row17 col3\" >43.139 s</td>\n",
       "      <td id=\"T_1b208_row17_col4\" class=\"data row17 col4\" >342.944</td>\n",
       "      <td id=\"T_1b208_row17_col5\" class=\"data row17 col5\" >0.725</td>\n",
       "    </tr>\n",
       "  </tbody>\n",
       "</table>\n"
      ],
      "text/plain": [
       "<pandas.io.formats.style.Styler at 0x7ccc2060f9d0>"
      ]
     },
     "metadata": {},
     "output_type": "display_data"
    }
   ],
   "source": [
    "def flatten_dictionary(models):\n",
    "    data = []\n",
    "    for adjustment, models_data in models.items():\n",
    "        for model_name, submodels_data in models_data.items():\n",
    "            for submodel_name, metrics in submodels_data.items():\n",
    "                data.append({\n",
    "                    'Hyperparameters': adjustment.capitalize(),\n",
    "                    'Type': model_name,\n",
    "                    'Algorithm': submodel_name if submodel_name else '-',\n",
    "                    'Training time': f\"{metrics['Training time']:.3f} s\",\n",
    "                    'RMSE': f\"{metrics['RMSE']:.3f}\",\n",
    "                    'R2': f\"{metrics['R2']:.3f}\"\n",
    "                })\n",
    "    return data\n",
    "\n",
    "frame_models = flatten_dictionary(models)  # flatten dictionary to be used by data frame\n",
    "df = pandas.DataFrame(frame_models)  # data frame\n",
    "df = df.style.set_properties(**{'text-align': 'center', 'vertical-align': 'middle'}).set_table_styles([{\n",
    "    'selector': 'th, td',\n",
    "    'props': [\n",
    "        ('text-align', 'center'),\n",
    "        ('vertical-align', 'middle')\n",
    "    ]\n",
    "}])  # style data frame\n",
    "with pandas.option_context('display.width', 1000):\n",
    "    display(df)  # display data frame"
   ]
  },
  {
   "cell_type": "markdown",
   "metadata": {},
   "source": [
    "Consideramos los mejores modelos aquellos que tienen menor error (R2 más cercano a 1 y RMSE menor). Entre los 18 modelos entrenados, los mejores modelos con un R2 ~0.7 son en orden descendente:\n",
    "- Random Forest ajustado (R2 = 0.732).\n",
    "- Random Forest no ajustado (R2 = 0.726).\n",
    "- SVM Radial (R2 = 0.725).\n",
    "- k-NN con Standard Scaler ajusatdo (R2 = 0.694).\n",
    "\n",
    "De entre ellos **se utilizará el modelo Random Forest ajustado**. Este nos permite además explicar la importancia de cada atributo según su contribución, lo que lo hace más explicable que otros modelos como SVM o k-NN.\n",
    "\n",
    "En cuanto a tiempos de entrenamiento, se puede ver que de entre los modelos ajustados los que menos tardan son CART y k-NN (< ~2 s). Modelos como SVM o Random Forest relativamente mucho más tiempo (> ~40 s). Es importante comentar que algoritmos como Random Forest son paralelizables porque la construcción de cada árbol de decisión es independiente del resto. Sin embargo, a pesar de eso el tiempo de entrenamiento de Random Forest es mayor que el de SVM. Esto ocurre porque en el ajuste de hiperparámetros se ha llegado a que mejores resultados da es un elevado número de árboles y eso contribuye a aumentar el tiempo total.\n",
    "\n",
    "---\n",
    "\n",
    "Considered the best models are those with lower error (R2 closer to 1 and lower RMSE). Among the 18 trained models, the best models with an R2 around 0.7 are, in descending order:\n",
    "\n",
    "- Adjusted Random Forest (R2 = 0.732).\n",
    "- Unadjusted Random Forest (R2 = 0.726).\n",
    "- Radial SVM (R2 = 0.725).\n",
    "- k-NN with adjusted Standard Scaler (R2 = 0.694).\n",
    "\n",
    "**The adjusted Random Forest model will be used** among them. Additionally, it allows us to explain the importance of each attribute according to its contribution, making it more explainable than other models like SVM or k-NN.\n",
    "\n",
    "Regarding training times, it can be observed that among the adjusted models, the fastest ones are CART and k-NN (< ~2 s). Models like SVM or Random Forest take relatively much longer (> ~40 s). It is important to mention that algorithms like Random Forest are parallelizable because the construction of each decision tree is independent of the rest. However, despite this, the training time of Random Forest is greater than that of SVM. This occurs because in the hyperparameter tuning, it has been found that better results are achieved with a high number of trees, which contributes to increasing the total time."
   ]
  },
  {
   "cell_type": "markdown",
   "metadata": {},
   "source": [
    "## Final model"
   ]
  },
  {
   "cell_type": "code",
   "execution_count": 33,
   "metadata": {},
   "outputs": [
    {
     "name": "stdout",
     "output_type": "stream",
     "text": [
      "Random Forest:\n",
      "- Errors:\n",
      "   -  RMSE: 338.227\n",
      "   -  R2: 0.732\n",
      "- Hyperparameters:\n",
      "   -  bootstrap: True\n",
      "   -  ccp_alpha: 0.0\n",
      "   -  criterion: squared_error\n",
      "  (*) max_depth: 20\n",
      "  (*) max_features: 9\n",
      "   -  max_leaf_nodes: None\n",
      "   -  max_samples: None\n",
      "   -  min_impurity_decrease: 0.0\n",
      "  (*) min_samples_leaf: 1\n",
      "  (*) min_samples_split: 5\n",
      "   -  min_weight_fraction_leaf: 0.0\n",
      "   -  monotonic_cst: None\n",
      "  (*) n_estimators: 400\n",
      "   -  n_jobs: -1\n",
      "   -  oob_score: False\n",
      "   -  random_state: 55\n",
      "   -  verbose: 0\n",
      "   -  warm_start: False\n",
      "- Top 5 features:\n",
      "   -  'u100.13': 22.843 %\n",
      "   -  'iews.13': 21.816 %\n",
      "   -  'u10.13': 9.371 %\n",
      "   -  'inss.13': 7.324 %\n",
      "   -  'v100.13': 4.766 %\n"
     ]
    }
   ],
   "source": [
    "print(\"Random Forest:\")\n",
    "\n",
    "# MODEL SETUP\n",
    "final_model = models['Adjusted']['Decision Tree']['Random Forest']['Model']  # model\n",
    "\n",
    "# MODEL TRAINING\n",
    "final_model.fit(X, Y)\n",
    "\n",
    "print(\"- Errors:\")\n",
    "print(f\"   -  RMSE: {models['Adjusted']['Decision Tree']['Random Forest']['RMSE']:.3f}\")\n",
    "print(f\"   -  R2: {models['Adjusted']['Decision Tree']['Random Forest']['R2']:.3f}\")\n",
    "print(\"- Hyperparameters:\")\n",
    "for param, value in final_model.get_params().items():\n",
    "    if param in models['Adjusted']['Decision Tree']['Random Forest']['Params']:\n",
    "        print(f\"  (*) {param}: {value}\")\n",
    "    else:\n",
    "        print(f\"   -  {param}: {value}\")\n",
    "print(f\"- Top {IMPORTANT_FEATURES} features:\")\n",
    "for importance, feature in sorted(zip(final_model.feature_importances_, X.columns), reverse=True)[:IMPORTANT_FEATURES]:\n",
    "    print(f\"   -  '{feature}': {importance*100:.3f} %\")"
   ]
  },
  {
   "cell_type": "code",
   "execution_count": 34,
   "metadata": {},
   "outputs": [],
   "source": [
    "import pickle\n",
    "\n",
    "try:\n",
    "    with open('final_model.pkl', 'wb') as f:  # save final model to file\n",
    "        pickle.dump(final_model, f)\n",
    "except Exception as e:\n",
    "    print('Unable to save the final model.')"
   ]
  },
  {
   "cell_type": "markdown",
   "metadata": {},
   "source": [
    "### Predictions"
   ]
  },
  {
   "cell_type": "markdown",
   "metadata": {},
   "source": [
    "#### Competition data"
   ]
  },
  {
   "cell_type": "code",
   "execution_count": 35,
   "metadata": {},
   "outputs": [],
   "source": [
    "competition_data = pandas.read_csv('wind_comp.csv.gz', compression='gzip')  # load competition data\n",
    "competition_data = competition_data.filter(regex='^.*(\\.13|[^\\.\\d])$', axis=1)  # filter data\n",
    "\n",
    "X_competition = competition_data.select_dtypes(include=['int64', 'float64'])  # idependent features\n",
    "\n",
    "predictions = final_model.predict(X_competition)  # make predictions\n",
    "predictions_df = pandas.DataFrame({'Predictions': predictions})  # store predictions\n",
    "predictions_df.to_csv('predictions.csv', index=False)  # save predictions to file"
   ]
  },
  {
   "cell_type": "markdown",
   "metadata": {},
   "source": [
    "#### Energy quantiles"
   ]
  },
  {
   "cell_type": "code",
   "execution_count": 36,
   "metadata": {},
   "outputs": [
    {
     "name": "stdout",
     "output_type": "stream",
     "text": [
      "Low Energy:\n",
      "- Errors:\n",
      "   -  RMSE: 129.590\n",
      "   -  R2: 0.830\n",
      "\n",
      "High Energy:\n",
      "- Errors:\n",
      "   -  RMSE: 212.703\n",
      "   -  R2: 0.717\n"
     ]
    }
   ],
   "source": [
    "# MODEL EVALUATION\n",
    "predictions = final_model.predict(X)\n",
    "\n",
    "# low energy beyond 3rd quantile\n",
    "low_energy = Y[Y < numpy.quantile(Y, 0.75)]\n",
    "low_energy_predictions = predictions[Y < numpy.quantile(Y, 0.75)]\n",
    "\n",
    "rmse_low = numpy.sqrt(metrics.mean_squared_error(low_energy, low_energy_predictions))\n",
    "r2_low = numpy.clip(metrics.r2_score(low_energy, low_energy_predictions), 0, 1)\n",
    "\n",
    "# high energy above 3rd quantile\n",
    "high_energy = Y[Y >= numpy.quantile(Y, 0.75)]\n",
    "high_energy_predictions = predictions[Y >= numpy.quantile(Y, 0.75)]\n",
    "\n",
    "rmse_high = numpy.sqrt(metrics.mean_squared_error(high_energy, high_energy_predictions))\n",
    "r2_high = numpy.clip(metrics.r2_score(high_energy, high_energy_predictions), 0, 1)\n",
    "\n",
    "print(f\"Low Energy:\")\n",
    "print(\"- Errors:\")\n",
    "print(f\"   -  RMSE: {rmse_low:.3f}\")\n",
    "print(f\"   -  R2: {r2_low:.3f}\")\n",
    "print(f\"\\nHigh Energy:\")\n",
    "print(\"- Errors:\")\n",
    "print(f\"   -  RMSE: {rmse_high:.3f}\")\n",
    "print(f\"   -  R2: {r2_high:.3f}\")"
   ]
  },
  {
   "cell_type": "markdown",
   "metadata": {},
   "source": [
    "## Classification task\n",
    "\n",
    "Para el problema de clasificación es necesario primero binarizar la variable objetivo en dos clases: baja energía aqullas muestras por debajo del tercer cuantil y energía alta aquellas por encima. Después se necesita balancear la muestra de datos para que no existan sesgos y los modelos de clasificación puedan generalizar.\n",
    "\n",
    "---\n",
    "\n",
    "For the classification problem, it is necessary to first binarize the target variable into two classes: low energy for those samples below the third quartile, and high energy for those above it. Then, it is necessary to balance the data sample to avoid biases so that classification models can generalize effectively."
   ]
  },
  {
   "cell_type": "code",
   "execution_count": 37,
   "metadata": {},
   "outputs": [],
   "source": [
    "from imblearn.over_sampling import SMOTE\n",
    "\n",
    "Y_binary = numpy.where(Y < numpy.quantile(Y, 0.75), 0, 1)"
   ]
  },
  {
   "cell_type": "markdown",
   "metadata": {},
   "source": [
    "### Gradient Boosting\n",
    "\n",
    "Para la clasificación se probará sólo un tipo de modelo, aquel que creemos dará los mejores resultados, el Gradient Boosting. Este algoritmo es muy potente y se usa ampliamente para problemas de regresión y de clasificación. Su funcionamiento consiste en construir *weak learners* de forma secuencial, típicamente árboles de decisión, donde cada *weak learner* corrige los errores cometidos por el anterior.\n",
    "\n",
    "Fortalezas:\n",
    "- Da resultados con una precisión muy alta.\n",
    "- Puede manejar valores faltantes.\n",
    "- Proporciona la importancia de cada atributo a predecir la variable objetivo lo que lo hace más explicativo que otros algoritmos como k-NN o SVM.\n",
    "\n",
    "Debilidades:\n",
    "- Computacionalemnte costoso puesto que a diferencia de algoritmos también *ensemble* como Random Forest, no se puede paralelizar la construcción de los *weak learners*.\n",
    "- Costoso en memoria si no se limita el tamaño de los *weak learners*, la profundidad si son árboles.\n",
    "- Tendencia al sobreaprendizaje si no regularizan adecuadamente, internamente utilizan regularización Lasso y Ridge.\n",
    "\n",
    "---\n",
    "\n",
    "For classification, we will test only one type of model, the Gradient Boosting, which we believe will yield the best results. This algorithm is very powerful and widely used for both regression and classification problems. Its operation involves constructing weak learners sequentially, typically decision trees, where each weak learner corrects the errors made by the previous one.\n",
    "\n",
    "Strengths:\n",
    "- Provides highly accurate results.\n",
    "- Can handle missing values.\n",
    "- Provides the importance of each feature in predicting the target variable, making it more explanatory than other algorithms such as k-NN or SVM.\n",
    "\n",
    "Weaknesses:\n",
    "- Computationally expensive because, unlike other ensemble algorithms like Random Forest, the construction of weak learners cannot be parallelized.\n",
    "- Memory-intensive if the size of weak learners is not limited, especially in the case of tree depth.\n",
    "- Tendency to overfit if not properly regularized; internally uses Lasso and Ridge regularization."
   ]
  },
  {
   "cell_type": "markdown",
   "metadata": {},
   "source": [
    "#### Default hyperparameters"
   ]
  },
  {
   "cell_type": "code",
   "execution_count": 38,
   "metadata": {},
   "outputs": [
    {
     "name": "stdout",
     "output_type": "stream",
     "text": [
      "XGBoost:\n",
      "- Training time: 0.251 s\n",
      "- Errors:\n",
      "   -  Accuracy: 0.881\n",
      "   -  F1: 0.746\n",
      "- Hyperparameters:\n",
      "   -  objective: binary:logistic\n",
      "   -  base_score: None\n",
      "   -  booster: None\n",
      "   -  callbacks: None\n",
      "   -  colsample_bylevel: None\n",
      "   -  colsample_bynode: None\n",
      "   -  colsample_bytree: None\n",
      "   -  device: None\n",
      "   -  early_stopping_rounds: None\n",
      "   -  enable_categorical: False\n",
      "   -  eval_metric: None\n",
      "   -  feature_types: None\n",
      "   -  gamma: None\n",
      "   -  grow_policy: None\n",
      "   -  importance_type: None\n",
      "   -  interaction_constraints: None\n",
      "   -  learning_rate: None\n",
      "   -  max_bin: None\n",
      "   -  max_cat_threshold: None\n",
      "   -  max_cat_to_onehot: None\n",
      "   -  max_delta_step: None\n",
      "   -  max_depth: None\n",
      "   -  max_leaves: None\n",
      "   -  min_child_weight: None\n",
      "   -  missing: nan\n",
      "   -  monotone_constraints: None\n",
      "   -  multi_strategy: None\n",
      "   -  n_estimators: None\n",
      "   -  n_jobs: -1\n",
      "   -  num_parallel_tree: None\n",
      "   -  random_state: 55\n",
      "   -  reg_alpha: None\n",
      "   -  reg_lambda: None\n",
      "   -  sampling_method: None\n",
      "   -  scale_pos_weight: 0.6441890567845031\n",
      "   -  subsample: None\n",
      "   -  tree_method: None\n",
      "   -  validate_parameters: None\n",
      "   -  verbosity: None\n"
     ]
    }
   ],
   "source": [
    "from xgboost import XGBClassifier\n",
    "\n",
    "print(\"XGBoost:\")\n",
    "training_time = time.time()  # start training time\n",
    "\n",
    "# MODEL SETUP\n",
    "model = XGBClassifier(n_jobs=-1, scale_pos_weight=sum(low_energy)/sum(high_energy), random_state=SEED)  # model\n",
    "\n",
    "# MODEL TRAINING\n",
    "x_train, x_test, y_train, y_test = train_test_split(X,Y_binary, test_size=TEST_SIZE, random_state=1, stratify=Y_binary)\n",
    "# - training subset: x_train U y_train\n",
    "# - test subset: x_test U y_test\n",
    "numpy.random.seed(SEED) # reproducibility\n",
    "model.fit(x_train, y_train)\n",
    "\n",
    "# MODEL EVALUATION\n",
    "y_test_pred = model.predict(x_test)  # dependent feature model predictions\n",
    "accuracy = numpy.clip(metrics.accuracy_score(y_test, y_test_pred), 0, 1)\n",
    "f1 = numpy.clip(metrics.f1_score(y_test, y_test_pred), 0, 1)\n",
    "\n",
    "training_time = time.time() - training_time  # end training time\n",
    "\n",
    "print(f\"- Training time: {training_time:.3f} s\")\n",
    "print(\"- Errors:\")\n",
    "print(f\"   -  Accuracy: {accuracy:.3f}\")\n",
    "print(f\"   -  F1: {f1:.3f}\")\n",
    "print(\"- Hyperparameters:\")\n",
    "for param, value in model.get_params().items():\n",
    "    print(f\"   -  {param}: {value}\")"
   ]
  },
  {
   "cell_type": "markdown",
   "metadata": {},
   "source": [
    "#### Custom hyperparameters\n",
    "\n",
    "Los principales hiperparámetro que se va a ajustar es:\n",
    "- `learning_rate`: la contribución de cada árbol individual al modelo. Valores bajos hacen al modelo mas robusto, pero requieren mas árboles para conseguir la misma eficacia.\n",
    "- `n_estimators`: el número de *boosting* rounds para construir los árboles. Valores altos permiten al modelo capturar relaciones mas complejas pero pueden llevar a sobreaprendizaje.\n",
    "\n",
    "Otros hiperparámetros interesantes con los que experimentar son:\n",
    "- `max_depth`: máxima prtofundidad de cada árbol.\n",
    "- `gamma`: la reducción mínima para hacer una partición en la hoja de un árbol.\n",
    "- `reg_alpha`: coeficiente L1 de regularización.\n",
    "- `reg_lambda`: coeficiente L2 de regularización.\n",
    "\n",
    "---\n",
    "\n",
    "The main hyperparameters that will be adjusted are:\n",
    "- `learning_rate`: the contribution of each individual tree to the model. Lower values make the model more robust but require more trees to achieve the same effectiveness.\n",
    "- `n_estimators`: the number of boosting rounds to build the trees. Higher values allow the model to capture more complex relationships but can lead to overfitting.\n",
    "\n",
    "Other interesting hyperparameters to experiment with are:\n",
    "- `max_depth`: maximum depth of each tree.\n",
    "- `gamma`: the minimum reduction to make a split in a tree leaf.\n",
    "- `reg_alpha`: L1 regularization coefficient.\n",
    "- `reg_lambda`: L2 regularization coefficient."
   ]
  },
  {
   "cell_type": "code",
   "execution_count": 39,
   "metadata": {},
   "outputs": [
    {
     "name": "stdout",
     "output_type": "stream",
     "text": [
      "XGBoost:\n",
      "- Training time: 50.646 s\n",
      "- Errors:\n",
      "   -  Accuracy: 0.888\n",
      "   -  F1: 0.759\n",
      "- Hyperparameters:\n",
      "   -  objective: binary:logistic\n",
      "   -  base_score: None\n",
      "   -  booster: None\n",
      "   -  callbacks: None\n",
      "   -  colsample_bylevel: None\n",
      "   -  colsample_bynode: None\n",
      "   -  colsample_bytree: None\n",
      "   -  device: None\n",
      "   -  early_stopping_rounds: None\n",
      "   -  enable_categorical: False\n",
      "   -  eval_metric: None\n",
      "   -  feature_types: None\n",
      "  (*) gamma: 0.01\n",
      "   -  grow_policy: None\n",
      "   -  importance_type: None\n",
      "   -  interaction_constraints: None\n",
      "  (*) learning_rate: 0.1\n",
      "   -  max_bin: None\n",
      "   -  max_cat_threshold: None\n",
      "   -  max_cat_to_onehot: None\n",
      "   -  max_delta_step: None\n",
      "  (*) max_depth: 50\n",
      "   -  max_leaves: None\n",
      "   -  min_child_weight: None\n",
      "   -  missing: nan\n",
      "   -  monotone_constraints: None\n",
      "   -  multi_strategy: None\n",
      "  (*) n_estimators: 1000\n",
      "   -  n_jobs: -1\n",
      "   -  num_parallel_tree: None\n",
      "   -  random_state: 55\n",
      "  (*) reg_alpha: 0.01\n",
      "  (*) reg_lambda: 1\n",
      "   -  sampling_method: None\n",
      "   -  scale_pos_weight: 0.6441890567845031\n",
      "   -  subsample: None\n",
      "   -  tree_method: None\n",
      "   -  validate_parameters: None\n",
      "   -  verbosity: None\n"
     ]
    }
   ],
   "source": [
    "print(\"XGBoost:\")\n",
    "training_time = time.time()  # start training time\n",
    "\n",
    "# MODEL SETUP\n",
    "params = {\n",
    "    'learning_rate': [None, 0.01, 0.05, 0.1, 0.15, 0.2, 0.25, 0.3], \n",
    "    'n_estimators': [None, 10, 100, 1000, 10000],\n",
    "    'max_depth': [2, 5, 10, 15, 20, 30, 50],\n",
    "    'gamma': [0, 0.01, 0.1, 0.5, 1, 2, 5, 10],\n",
    "    'reg_alpha': [None, 0, 0.01, 0.1, 0.5, 1, 2, 5],\n",
    "    'reg_lambda': [None, 0, 0.01, 0.1, 0.5, 1, 2, 5],\n",
    "}  # params\n",
    "model = RandomizedSearchCV(\n",
    "    estimator=XGBClassifier(n_jobs=-1, scale_pos_weight=sum(low_energy)/sum(high_energy), random_state=SEED),  # model type\n",
    "    scoring=\"balanced_accuracy\",  # inner evaluation metrics\n",
    "    param_distributions=params,  # hyperparameters ranges\n",
    "    cv=KFold(n_splits=K_FOLDS, shuffle=True, random_state=SEED),  # cross-validation inner evaluation\n",
    "    n_jobs=-1,  # parallel execution\n",
    "    verbose=False,  # execution messages\n",
    "    random_state=SEED,  # reproducibility\n",
    "    n_iter=50  # number of hyperparameters combinations\n",
    ")  # model\n",
    "\n",
    "# MODEL TRAINING\n",
    "x_train, x_test, y_train, y_test = train_test_split(X, Y_binary, test_size=TEST_SIZE, random_state=SEED, stratify=Y_binary)\n",
    "# - training subset: x_train U y_train\n",
    "# - test subset: x_test U y_test\n",
    "numpy.random.seed(SEED) # reproducibility\n",
    "model.fit(x_train, y_train)\n",
    "\n",
    "best_params = model.best_params_ # params\n",
    "model = model.best_estimator_  # model\n",
    "\n",
    "# MODEL EVALUATION\n",
    "y_test_pred = model.predict(x_test)  # dependent feature model predictions\n",
    "accuracy = numpy.clip(metrics.accuracy_score(y_test, y_test_pred), 0, 1)\n",
    "f1 = numpy.clip(metrics.f1_score(y_test, y_test_pred), 0, 1)\n",
    "\n",
    "training_time = time.time() - training_time  # end training time\n",
    "\n",
    "print(f\"- Training time: {training_time:.3f} s\")\n",
    "print(\"- Errors:\")\n",
    "print(f\"   -  Accuracy: {accuracy:.3f}\")\n",
    "print(f\"   -  F1: {f1:.3f}\")\n",
    "print(\"- Hyperparameters:\")\n",
    "for param, value in model.get_params().items():\n",
    "    if param in best_params:\n",
    "        print(f\"  (*) {param}: {value}\")\n",
    "    else:\n",
    "        print(f\"   -  {param}: {value}\")"
   ]
  },
  {
   "cell_type": "markdown",
   "metadata": {},
   "source": [
    "#### Graphs"
   ]
  },
  {
   "cell_type": "markdown",
   "metadata": {},
   "source": [
    "A continuación mostraremos los gráficos correspondientes al XGBoost ajustado, para poder ver los resultados de forma gráfica y poder sacar conclusiones.\n",
    "\n",
    "---\n",
    "\n",
    "Below we will show the graphs corresponding to the adjusted XGBoost, to be able to see the results graphically and be able to draw conclusions."
   ]
  },
  {
   "cell_type": "code",
   "execution_count": 40,
   "metadata": {},
   "outputs": [
    {
     "name": "stdout",
     "output_type": "stream",
     "text": [
      "              precision    recall  f1-score   support\n",
      "\n",
      "           0       0.91      0.95      0.93       712\n",
      "           1       0.83      0.70      0.76       238\n",
      "\n",
      "    accuracy                           0.89       950\n",
      "   macro avg       0.87      0.83      0.84       950\n",
      "weighted avg       0.89      0.89      0.89       950\n",
      "\n"
     ]
    }
   ],
   "source": [
    "print(metrics.classification_report(y_test, y_test_pred))"
   ]
  },
  {
   "cell_type": "markdown",
   "metadata": {},
   "source": [
    "Podemos ver un **muy buen balance en todas las métricas del error**, tanto para la clase positiva (1 -> energía alta) como para la clase negativa (0 -> energía baja). Por ejemplo con el recall (instancias bien clasificadas de una clase) podemos ver que clasifica casi perfecto instancias de energía baja y muy bien energías altas. Esta diferencia surge debido a que se trata de un conjunto de datos desbalanceado.\n",
    "\n",
    "---\n",
    "\n",
    "We can see a **very good balance in all error metrics**, both for the positive class (1 -> high energy) and for the negative class (0 -> low energy). For example, with recall (correctly classified instances of a class), we can see that it almost perfectly classifies instances of low energy and very well for high energies. This difference arises because it is an imbalanced dataset."
   ]
  },
  {
   "cell_type": "markdown",
   "metadata": {},
   "source": [
    "##### Confusion Matrix"
   ]
  },
  {
   "cell_type": "code",
   "execution_count": 41,
   "metadata": {},
   "outputs": [
    {
     "data": {
      "image/png": "[encoded data removed]",
      "text/plain": [
       "<Figure size 600x500 with 2 Axes>"
      ]
     },
     "metadata": {},
     "output_type": "display_data"
    }
   ],
   "source": [
    "cm = metrics.confusion_matrix(y_test, y_test_pred)\n",
    "cm_df = pandas.DataFrame(cm,\n",
    "                     index = [\"Low\", \"High\"],\n",
    "                     columns = [\"Low\", \"High\"])\n",
    "plt.figure(figsize=(6, 5))\n",
    "seaborn.heatmap(cm_df, annot=True, fmt='d', cmap='YlGnBu')\n",
    "plt.title(\"Confusion Matrix\", size=20)\n",
    "plt.ylabel(\"True\", size=14)\n",
    "plt.xlabel(\"Predicted\", size=14)\n",
    "plt.show()"
   ]
  },
  {
   "cell_type": "markdown",
   "metadata": {},
   "source": [
    "Como se veía en el resumen de métricas, hay una alta tasa de aciertos para verdaderos positivos y negativos y baja tasa de fallos para falsos positivos y negativos.\n",
    "\n",
    "---\n",
    "\n",
    "As seen in the metrics summary, there is a high rate of correct predictions for true positives and true negatives, and a low rate of errors for false positives and false negatives."
   ]
  },
  {
   "cell_type": "markdown",
   "metadata": {},
   "source": [
    "##### ROC curve"
   ]
  },
  {
   "cell_type": "code",
   "execution_count": 42,
   "metadata": {},
   "outputs": [
    {
     "data": {
      "image/png": "[encoded data removed]",
      "text/plain": [
       "<Figure size 600x400 with 1 Axes>"
      ]
     },
     "metadata": {},
     "output_type": "display_data"
    }
   ],
   "source": [
    "probs = model.predict_proba(x_test)[:, 1]\n",
    "auc = metrics.roc_auc_score(y_test, probs)\n",
    "fpr, tpr, thresholds = metrics.roc_curve(y_test, probs)\n",
    "plt.figure(figsize=(6, 4))\n",
    "plt.plot(fpr, tpr, label=f'AUC  = {auc:.3f}')\n",
    "plt.plot([0, 1], [0, 1], color=\"blue\", linestyle=\"--\", label=\"Baseline\")\n",
    "plt.title(\"ROC curve\", size=20)\n",
    "plt.xlabel(\"False Positive Rate\", size=14)\n",
    "plt.ylabel(\"True Positive Rate\", size=14)\n",
    "plt.legend()\n",
    "plt.show()"
   ]
  },
  {
   "cell_type": "markdown",
   "metadata": {},
   "source": [
    "La curva ROC y el área bajo la curva (AUC) indican que **se trata de un clasificador magnífico** puesto que el AUC es ~0.93 muy cercano a 1.\n",
    "\n",
    "---\n",
    "\n",
    "On the other hand, the ROC curve and the area under the curve (AUC) indicate that **it is an excellent classifier** since the AUC is around 0.93, very close to 1."
   ]
  },
  {
   "cell_type": "markdown",
   "metadata": {},
   "source": [
    "#### Results\n",
    "\n",
    "- **La mejora del XGBoost ajustado frente al no ajustado es mínima**, ~0.01 en accuracy y en F1. Por eso los gráficos corresponden solo al XGBoost ajustado.\n",
    "- **Los resultados obtenidos por ambos Gradient Boosting son muy buenos**, con ~0.9 en accuracy y ~0.75 en F1.\n",
    "\n",
    "---\n",
    "\n",
    "- **The improvement of the adjusted XGBoost over the unadjusted one is minimal**, around 0.01 in accuracy and ~0.75 F1 score. That's why the graphs correspond only to the adjusted XGBoost.\n",
    "- **The results obtained by both Gradient Boosting models are very good**, with around 0.9 in accuracy and F1 score."
   ]
  },
  {
   "cell_type": "markdown",
   "metadata": {},
   "source": [
    "## ChatGPT\n",
    "\n",
    "ChatGPT es un *chatbot* basado en *large language model* desarrollado por OpenAI. Su lanzamiento en noviembre de 2022 supone un cambio en la dinámica de trabajo habitual y el comienzo de lo que actualmente en 2024 se denomina como el *AI boom* o *AI spring*.\n",
    "\n",
    "En esta práctica se ha utilizado ChatGPT para agilizar las siguientes tareas:\n",
    "- Depuración de errores de compilación y ejecución.\n",
    "- Gestión de ficheros; filtrado de datos; y creación de tablas, *dataframes* y gráficos.\n",
    "- Escritura de código mediante autorellenado (usando extensiones con IAs como Copilot o Codeium en IDEs como VSCode o VSCodium).\n",
    "\n",
    "También se ha usado para consultar los modelos entrenados:\n",
    "- Ventajas y desventajas de cada tipo de modelo. ChatGPT ha contenstado acertadamente en todos los casos, remarcando las características más importantes.\n",
    "- Hiperparámetros más importantes para ajustar de cada modelo. En este tipo de consultas si no se enfatiza en un conjunto de palabras que implícitamente son más importantes, en este caso sería: \"Hiperparámetros **más importantes** ...\", se suele obtener una lista no ordenada, en este caso: varios hiperparámetros de un modelo y entre ellos el más importante. Esta situación se puede observar menos en modelos más avanzados como ChatGPT 4.0, los cuales son capaces de entender mejor o interpretar más acertadamente sentencias del lenguaje natural.\n",
    "\n",
    "---\n",
    "\n",
    "ChatGPT is a *chatbot* based on a *large language model* developed by OpenAI. Its launch in November 2022 marks a change in the usual work dynamics and the beginning of what is currently referred to in 2024 as the *AI boom* or *AI spring*.\n",
    "\n",
    "In this practice, ChatGPT has been used to streamline the following tasks:\n",
    "- Debugging compilation and execution errors.\n",
    "- File management; data filtering; and creation of tables, *dataframes*, and charts.\n",
    "- Code writing through autocompletion (using extensions with AIs like Copilot or Codeium in IDEs like VSCode or VSCodium).\n",
    "\n",
    "It has also been used to consult trained models:\n",
    "- Advantages and disadvantages of each type of model. ChatGPT has answered accurately in all cases, highlighting the most important features.\n",
    "- Most important hyperparameters to adjust for each model. In this type of query, if it is not emphasized on a set of words that are implicitly more important, in this case it would be: \"Most **important** hyperparameters...\", an unordered list is usually obtained, in this case: several hyperparameters of a model and among them the most important one. This situation can be observed less in more advanced models like ChatGPT 4.0, which are capable of better understanding or more accurately interpreting natural language sentences."
   ]
  }
 ],
 "metadata": {
  "kernelspec": {
   "display_name": "Python 3",
   "language": "python",
   "name": "python3"
  },
  "language_info": {
   "codemirror_mode": {
    "name": "ipython",
    "version": 3
   },
   "file_extension": ".py",
   "mimetype": "text/x-python",
   "name": "python",
   "nbconvert_exporter": "python",
   "pygments_lexer": "ipython3",
   "version": "3.10.12"
  }
 },
 "nbformat": 4,
 "nbformat_minor": 2
}
